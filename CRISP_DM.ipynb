{
  "nbformat": 4,
  "nbformat_minor": 0,
  "metadata": {
    "colab": {
      "provenance": [],
      "authorship_tag": "ABX9TyODdqA/aRjan0+mUEiN14UN",
      "include_colab_link": true
    },
    "kernelspec": {
      "name": "python3",
      "display_name": "Python 3"
    },
    "language_info": {
      "name": "python"
    },
    "widgets": {
      "application/vnd.jupyter.widget-state+json": {
        "6d2e6d54ef204806ad8a2274d4d94e89": {
          "model_module": "@jupyter-widgets/controls",
          "model_name": "HBoxModel",
          "model_module_version": "1.5.0",
          "state": {
            "_dom_classes": [],
            "_model_module": "@jupyter-widgets/controls",
            "_model_module_version": "1.5.0",
            "_model_name": "HBoxModel",
            "_view_count": null,
            "_view_module": "@jupyter-widgets/controls",
            "_view_module_version": "1.5.0",
            "_view_name": "HBoxView",
            "box_style": "",
            "children": [
              "IPY_MODEL_3736b1c7a20a45619c99130a83645944",
              "IPY_MODEL_7797384f57be44ca8eed42f2d48851a2",
              "IPY_MODEL_bd652683f36b4082b7ae8c0018af3110"
            ],
            "layout": "IPY_MODEL_1238d0bfaf80462d8f4aa3ff1da809d8"
          }
        },
        "3736b1c7a20a45619c99130a83645944": {
          "model_module": "@jupyter-widgets/controls",
          "model_name": "HTMLModel",
          "model_module_version": "1.5.0",
          "state": {
            "_dom_classes": [],
            "_model_module": "@jupyter-widgets/controls",
            "_model_module_version": "1.5.0",
            "_model_name": "HTMLModel",
            "_view_count": null,
            "_view_module": "@jupyter-widgets/controls",
            "_view_module_version": "1.5.0",
            "_view_name": "HTMLView",
            "description": "",
            "description_tooltip": null,
            "layout": "IPY_MODEL_e75927efab624fbb8a2eda30ec48f5f8",
            "placeholder": "​",
            "style": "IPY_MODEL_a29d68e5b27a420a89944a85b9f44e91",
            "value": "Processing: 100%"
          }
        },
        "7797384f57be44ca8eed42f2d48851a2": {
          "model_module": "@jupyter-widgets/controls",
          "model_name": "FloatProgressModel",
          "model_module_version": "1.5.0",
          "state": {
            "_dom_classes": [],
            "_model_module": "@jupyter-widgets/controls",
            "_model_module_version": "1.5.0",
            "_model_name": "FloatProgressModel",
            "_view_count": null,
            "_view_module": "@jupyter-widgets/controls",
            "_view_module_version": "1.5.0",
            "_view_name": "ProgressView",
            "bar_style": "",
            "description": "",
            "description_tooltip": null,
            "layout": "IPY_MODEL_837ca8112b18400faa55865f6fe9ef6c",
            "max": 65,
            "min": 0,
            "orientation": "horizontal",
            "style": "IPY_MODEL_d8214e6478254e939b39b41644e6ccab",
            "value": 65
          }
        },
        "bd652683f36b4082b7ae8c0018af3110": {
          "model_module": "@jupyter-widgets/controls",
          "model_name": "HTMLModel",
          "model_module_version": "1.5.0",
          "state": {
            "_dom_classes": [],
            "_model_module": "@jupyter-widgets/controls",
            "_model_module_version": "1.5.0",
            "_model_name": "HTMLModel",
            "_view_count": null,
            "_view_module": "@jupyter-widgets/controls",
            "_view_module_version": "1.5.0",
            "_view_name": "HTMLView",
            "description": "",
            "description_tooltip": null,
            "layout": "IPY_MODEL_87ef613433cf4eb0af78d67a3cf597b7",
            "placeholder": "​",
            "style": "IPY_MODEL_4f8c4ff200854fb1af8785f8f8f6b17e",
            "value": " 65/65 [00:27&lt;00:00,  3.49it/s]"
          }
        },
        "1238d0bfaf80462d8f4aa3ff1da809d8": {
          "model_module": "@jupyter-widgets/base",
          "model_name": "LayoutModel",
          "model_module_version": "1.2.0",
          "state": {
            "_model_module": "@jupyter-widgets/base",
            "_model_module_version": "1.2.0",
            "_model_name": "LayoutModel",
            "_view_count": null,
            "_view_module": "@jupyter-widgets/base",
            "_view_module_version": "1.2.0",
            "_view_name": "LayoutView",
            "align_content": null,
            "align_items": null,
            "align_self": null,
            "border": null,
            "bottom": null,
            "display": null,
            "flex": null,
            "flex_flow": null,
            "grid_area": null,
            "grid_auto_columns": null,
            "grid_auto_flow": null,
            "grid_auto_rows": null,
            "grid_column": null,
            "grid_gap": null,
            "grid_row": null,
            "grid_template_areas": null,
            "grid_template_columns": null,
            "grid_template_rows": null,
            "height": null,
            "justify_content": null,
            "justify_items": null,
            "left": null,
            "margin": null,
            "max_height": null,
            "max_width": null,
            "min_height": null,
            "min_width": null,
            "object_fit": null,
            "object_position": null,
            "order": null,
            "overflow": null,
            "overflow_x": null,
            "overflow_y": null,
            "padding": null,
            "right": null,
            "top": null,
            "visibility": "hidden",
            "width": null
          }
        },
        "e75927efab624fbb8a2eda30ec48f5f8": {
          "model_module": "@jupyter-widgets/base",
          "model_name": "LayoutModel",
          "model_module_version": "1.2.0",
          "state": {
            "_model_module": "@jupyter-widgets/base",
            "_model_module_version": "1.2.0",
            "_model_name": "LayoutModel",
            "_view_count": null,
            "_view_module": "@jupyter-widgets/base",
            "_view_module_version": "1.2.0",
            "_view_name": "LayoutView",
            "align_content": null,
            "align_items": null,
            "align_self": null,
            "border": null,
            "bottom": null,
            "display": null,
            "flex": null,
            "flex_flow": null,
            "grid_area": null,
            "grid_auto_columns": null,
            "grid_auto_flow": null,
            "grid_auto_rows": null,
            "grid_column": null,
            "grid_gap": null,
            "grid_row": null,
            "grid_template_areas": null,
            "grid_template_columns": null,
            "grid_template_rows": null,
            "height": null,
            "justify_content": null,
            "justify_items": null,
            "left": null,
            "margin": null,
            "max_height": null,
            "max_width": null,
            "min_height": null,
            "min_width": null,
            "object_fit": null,
            "object_position": null,
            "order": null,
            "overflow": null,
            "overflow_x": null,
            "overflow_y": null,
            "padding": null,
            "right": null,
            "top": null,
            "visibility": null,
            "width": null
          }
        },
        "a29d68e5b27a420a89944a85b9f44e91": {
          "model_module": "@jupyter-widgets/controls",
          "model_name": "DescriptionStyleModel",
          "model_module_version": "1.5.0",
          "state": {
            "_model_module": "@jupyter-widgets/controls",
            "_model_module_version": "1.5.0",
            "_model_name": "DescriptionStyleModel",
            "_view_count": null,
            "_view_module": "@jupyter-widgets/base",
            "_view_module_version": "1.2.0",
            "_view_name": "StyleView",
            "description_width": ""
          }
        },
        "837ca8112b18400faa55865f6fe9ef6c": {
          "model_module": "@jupyter-widgets/base",
          "model_name": "LayoutModel",
          "model_module_version": "1.2.0",
          "state": {
            "_model_module": "@jupyter-widgets/base",
            "_model_module_version": "1.2.0",
            "_model_name": "LayoutModel",
            "_view_count": null,
            "_view_module": "@jupyter-widgets/base",
            "_view_module_version": "1.2.0",
            "_view_name": "LayoutView",
            "align_content": null,
            "align_items": null,
            "align_self": null,
            "border": null,
            "bottom": null,
            "display": null,
            "flex": null,
            "flex_flow": null,
            "grid_area": null,
            "grid_auto_columns": null,
            "grid_auto_flow": null,
            "grid_auto_rows": null,
            "grid_column": null,
            "grid_gap": null,
            "grid_row": null,
            "grid_template_areas": null,
            "grid_template_columns": null,
            "grid_template_rows": null,
            "height": null,
            "justify_content": null,
            "justify_items": null,
            "left": null,
            "margin": null,
            "max_height": null,
            "max_width": null,
            "min_height": null,
            "min_width": null,
            "object_fit": null,
            "object_position": null,
            "order": null,
            "overflow": null,
            "overflow_x": null,
            "overflow_y": null,
            "padding": null,
            "right": null,
            "top": null,
            "visibility": null,
            "width": null
          }
        },
        "d8214e6478254e939b39b41644e6ccab": {
          "model_module": "@jupyter-widgets/controls",
          "model_name": "ProgressStyleModel",
          "model_module_version": "1.5.0",
          "state": {
            "_model_module": "@jupyter-widgets/controls",
            "_model_module_version": "1.5.0",
            "_model_name": "ProgressStyleModel",
            "_view_count": null,
            "_view_module": "@jupyter-widgets/base",
            "_view_module_version": "1.2.0",
            "_view_name": "StyleView",
            "bar_color": null,
            "description_width": ""
          }
        },
        "87ef613433cf4eb0af78d67a3cf597b7": {
          "model_module": "@jupyter-widgets/base",
          "model_name": "LayoutModel",
          "model_module_version": "1.2.0",
          "state": {
            "_model_module": "@jupyter-widgets/base",
            "_model_module_version": "1.2.0",
            "_model_name": "LayoutModel",
            "_view_count": null,
            "_view_module": "@jupyter-widgets/base",
            "_view_module_version": "1.2.0",
            "_view_name": "LayoutView",
            "align_content": null,
            "align_items": null,
            "align_self": null,
            "border": null,
            "bottom": null,
            "display": null,
            "flex": null,
            "flex_flow": null,
            "grid_area": null,
            "grid_auto_columns": null,
            "grid_auto_flow": null,
            "grid_auto_rows": null,
            "grid_column": null,
            "grid_gap": null,
            "grid_row": null,
            "grid_template_areas": null,
            "grid_template_columns": null,
            "grid_template_rows": null,
            "height": null,
            "justify_content": null,
            "justify_items": null,
            "left": null,
            "margin": null,
            "max_height": null,
            "max_width": null,
            "min_height": null,
            "min_width": null,
            "object_fit": null,
            "object_position": null,
            "order": null,
            "overflow": null,
            "overflow_x": null,
            "overflow_y": null,
            "padding": null,
            "right": null,
            "top": null,
            "visibility": null,
            "width": null
          }
        },
        "4f8c4ff200854fb1af8785f8f8f6b17e": {
          "model_module": "@jupyter-widgets/controls",
          "model_name": "DescriptionStyleModel",
          "model_module_version": "1.5.0",
          "state": {
            "_model_module": "@jupyter-widgets/controls",
            "_model_module_version": "1.5.0",
            "_model_name": "DescriptionStyleModel",
            "_view_count": null,
            "_view_module": "@jupyter-widgets/base",
            "_view_module_version": "1.2.0",
            "_view_name": "StyleView",
            "description_width": ""
          }
        },
        "f93174842e9349a58159dabf4cc4be72": {
          "model_module": "@jupyter-widgets/controls",
          "model_name": "HBoxModel",
          "model_module_version": "1.5.0",
          "state": {
            "_dom_classes": [],
            "_model_module": "@jupyter-widgets/controls",
            "_model_module_version": "1.5.0",
            "_model_name": "HBoxModel",
            "_view_count": null,
            "_view_module": "@jupyter-widgets/controls",
            "_view_module_version": "1.5.0",
            "_view_name": "HBoxView",
            "box_style": "",
            "children": [
              "IPY_MODEL_c3ff2108ef184217a980ad9d2c138966",
              "IPY_MODEL_0e46a4419c874ffdad3dbecd3d05aae2",
              "IPY_MODEL_0aa37c8483374ade8d8b6cadc9f17641"
            ],
            "layout": "IPY_MODEL_738b926b41a94412bc48ee6984b4d0ba"
          }
        },
        "c3ff2108ef184217a980ad9d2c138966": {
          "model_module": "@jupyter-widgets/controls",
          "model_name": "HTMLModel",
          "model_module_version": "1.5.0",
          "state": {
            "_dom_classes": [],
            "_model_module": "@jupyter-widgets/controls",
            "_model_module_version": "1.5.0",
            "_model_name": "HTMLModel",
            "_view_count": null,
            "_view_module": "@jupyter-widgets/controls",
            "_view_module_version": "1.5.0",
            "_view_name": "HTMLView",
            "description": "",
            "description_tooltip": null,
            "layout": "IPY_MODEL_b0017873955c44e39d3d0341d94d0dc2",
            "placeholder": "​",
            "style": "IPY_MODEL_27d9364029634ec1b7ac84d8e21ada40",
            "value": "Processing:  86%"
          }
        },
        "0e46a4419c874ffdad3dbecd3d05aae2": {
          "model_module": "@jupyter-widgets/controls",
          "model_name": "FloatProgressModel",
          "model_module_version": "1.5.0",
          "state": {
            "_dom_classes": [],
            "_model_module": "@jupyter-widgets/controls",
            "_model_module_version": "1.5.0",
            "_model_name": "FloatProgressModel",
            "_view_count": null,
            "_view_module": "@jupyter-widgets/controls",
            "_view_module_version": "1.5.0",
            "_view_name": "ProgressView",
            "bar_style": "",
            "description": "",
            "description_tooltip": null,
            "layout": "IPY_MODEL_29415a924410442fa1923ce8a7bf8a16",
            "max": 7,
            "min": 0,
            "orientation": "horizontal",
            "style": "IPY_MODEL_ad0bfab0775347ccb6ea88dbfc7b247b",
            "value": 7
          }
        },
        "0aa37c8483374ade8d8b6cadc9f17641": {
          "model_module": "@jupyter-widgets/controls",
          "model_name": "HTMLModel",
          "model_module_version": "1.5.0",
          "state": {
            "_dom_classes": [],
            "_model_module": "@jupyter-widgets/controls",
            "_model_module_version": "1.5.0",
            "_model_name": "HTMLModel",
            "_view_count": null,
            "_view_module": "@jupyter-widgets/controls",
            "_view_module_version": "1.5.0",
            "_view_name": "HTMLView",
            "description": "",
            "description_tooltip": null,
            "layout": "IPY_MODEL_b9a14f1e1b87418c9cbdb3bd95f5f618",
            "placeholder": "​",
            "style": "IPY_MODEL_0134b333193f44c2830ec6cd8c8065be",
            "value": " 6/7 [00:08&lt;00:01,  1.14s/it]"
          }
        },
        "738b926b41a94412bc48ee6984b4d0ba": {
          "model_module": "@jupyter-widgets/base",
          "model_name": "LayoutModel",
          "model_module_version": "1.2.0",
          "state": {
            "_model_module": "@jupyter-widgets/base",
            "_model_module_version": "1.2.0",
            "_model_name": "LayoutModel",
            "_view_count": null,
            "_view_module": "@jupyter-widgets/base",
            "_view_module_version": "1.2.0",
            "_view_name": "LayoutView",
            "align_content": null,
            "align_items": null,
            "align_self": null,
            "border": null,
            "bottom": null,
            "display": null,
            "flex": null,
            "flex_flow": null,
            "grid_area": null,
            "grid_auto_columns": null,
            "grid_auto_flow": null,
            "grid_auto_rows": null,
            "grid_column": null,
            "grid_gap": null,
            "grid_row": null,
            "grid_template_areas": null,
            "grid_template_columns": null,
            "grid_template_rows": null,
            "height": null,
            "justify_content": null,
            "justify_items": null,
            "left": null,
            "margin": null,
            "max_height": null,
            "max_width": null,
            "min_height": null,
            "min_width": null,
            "object_fit": null,
            "object_position": null,
            "order": null,
            "overflow": null,
            "overflow_x": null,
            "overflow_y": null,
            "padding": null,
            "right": null,
            "top": null,
            "visibility": "hidden",
            "width": null
          }
        },
        "b0017873955c44e39d3d0341d94d0dc2": {
          "model_module": "@jupyter-widgets/base",
          "model_name": "LayoutModel",
          "model_module_version": "1.2.0",
          "state": {
            "_model_module": "@jupyter-widgets/base",
            "_model_module_version": "1.2.0",
            "_model_name": "LayoutModel",
            "_view_count": null,
            "_view_module": "@jupyter-widgets/base",
            "_view_module_version": "1.2.0",
            "_view_name": "LayoutView",
            "align_content": null,
            "align_items": null,
            "align_self": null,
            "border": null,
            "bottom": null,
            "display": null,
            "flex": null,
            "flex_flow": null,
            "grid_area": null,
            "grid_auto_columns": null,
            "grid_auto_flow": null,
            "grid_auto_rows": null,
            "grid_column": null,
            "grid_gap": null,
            "grid_row": null,
            "grid_template_areas": null,
            "grid_template_columns": null,
            "grid_template_rows": null,
            "height": null,
            "justify_content": null,
            "justify_items": null,
            "left": null,
            "margin": null,
            "max_height": null,
            "max_width": null,
            "min_height": null,
            "min_width": null,
            "object_fit": null,
            "object_position": null,
            "order": null,
            "overflow": null,
            "overflow_x": null,
            "overflow_y": null,
            "padding": null,
            "right": null,
            "top": null,
            "visibility": null,
            "width": null
          }
        },
        "27d9364029634ec1b7ac84d8e21ada40": {
          "model_module": "@jupyter-widgets/controls",
          "model_name": "DescriptionStyleModel",
          "model_module_version": "1.5.0",
          "state": {
            "_model_module": "@jupyter-widgets/controls",
            "_model_module_version": "1.5.0",
            "_model_name": "DescriptionStyleModel",
            "_view_count": null,
            "_view_module": "@jupyter-widgets/base",
            "_view_module_version": "1.2.0",
            "_view_name": "StyleView",
            "description_width": ""
          }
        },
        "29415a924410442fa1923ce8a7bf8a16": {
          "model_module": "@jupyter-widgets/base",
          "model_name": "LayoutModel",
          "model_module_version": "1.2.0",
          "state": {
            "_model_module": "@jupyter-widgets/base",
            "_model_module_version": "1.2.0",
            "_model_name": "LayoutModel",
            "_view_count": null,
            "_view_module": "@jupyter-widgets/base",
            "_view_module_version": "1.2.0",
            "_view_name": "LayoutView",
            "align_content": null,
            "align_items": null,
            "align_self": null,
            "border": null,
            "bottom": null,
            "display": null,
            "flex": null,
            "flex_flow": null,
            "grid_area": null,
            "grid_auto_columns": null,
            "grid_auto_flow": null,
            "grid_auto_rows": null,
            "grid_column": null,
            "grid_gap": null,
            "grid_row": null,
            "grid_template_areas": null,
            "grid_template_columns": null,
            "grid_template_rows": null,
            "height": null,
            "justify_content": null,
            "justify_items": null,
            "left": null,
            "margin": null,
            "max_height": null,
            "max_width": null,
            "min_height": null,
            "min_width": null,
            "object_fit": null,
            "object_position": null,
            "order": null,
            "overflow": null,
            "overflow_x": null,
            "overflow_y": null,
            "padding": null,
            "right": null,
            "top": null,
            "visibility": null,
            "width": null
          }
        },
        "ad0bfab0775347ccb6ea88dbfc7b247b": {
          "model_module": "@jupyter-widgets/controls",
          "model_name": "ProgressStyleModel",
          "model_module_version": "1.5.0",
          "state": {
            "_model_module": "@jupyter-widgets/controls",
            "_model_module_version": "1.5.0",
            "_model_name": "ProgressStyleModel",
            "_view_count": null,
            "_view_module": "@jupyter-widgets/base",
            "_view_module_version": "1.2.0",
            "_view_name": "StyleView",
            "bar_color": null,
            "description_width": ""
          }
        },
        "b9a14f1e1b87418c9cbdb3bd95f5f618": {
          "model_module": "@jupyter-widgets/base",
          "model_name": "LayoutModel",
          "model_module_version": "1.2.0",
          "state": {
            "_model_module": "@jupyter-widgets/base",
            "_model_module_version": "1.2.0",
            "_model_name": "LayoutModel",
            "_view_count": null,
            "_view_module": "@jupyter-widgets/base",
            "_view_module_version": "1.2.0",
            "_view_name": "LayoutView",
            "align_content": null,
            "align_items": null,
            "align_self": null,
            "border": null,
            "bottom": null,
            "display": null,
            "flex": null,
            "flex_flow": null,
            "grid_area": null,
            "grid_auto_columns": null,
            "grid_auto_flow": null,
            "grid_auto_rows": null,
            "grid_column": null,
            "grid_gap": null,
            "grid_row": null,
            "grid_template_areas": null,
            "grid_template_columns": null,
            "grid_template_rows": null,
            "height": null,
            "justify_content": null,
            "justify_items": null,
            "left": null,
            "margin": null,
            "max_height": null,
            "max_width": null,
            "min_height": null,
            "min_width": null,
            "object_fit": null,
            "object_position": null,
            "order": null,
            "overflow": null,
            "overflow_x": null,
            "overflow_y": null,
            "padding": null,
            "right": null,
            "top": null,
            "visibility": null,
            "width": null
          }
        },
        "0134b333193f44c2830ec6cd8c8065be": {
          "model_module": "@jupyter-widgets/controls",
          "model_name": "DescriptionStyleModel",
          "model_module_version": "1.5.0",
          "state": {
            "_model_module": "@jupyter-widgets/controls",
            "_model_module_version": "1.5.0",
            "_model_name": "DescriptionStyleModel",
            "_view_count": null,
            "_view_module": "@jupyter-widgets/base",
            "_view_module_version": "1.2.0",
            "_view_name": "StyleView",
            "description_width": ""
          }
        },
        "c029dece8c55498d80a7eb1a66623566": {
          "model_module": "@jupyter-widgets/controls",
          "model_name": "VBoxModel",
          "model_module_version": "1.5.0",
          "state": {
            "_dom_classes": [
              "widget-interact"
            ],
            "_model_module": "@jupyter-widgets/controls",
            "_model_module_version": "1.5.0",
            "_model_name": "VBoxModel",
            "_view_count": null,
            "_view_module": "@jupyter-widgets/controls",
            "_view_module_version": "1.5.0",
            "_view_name": "VBoxView",
            "box_style": "",
            "children": [
              "IPY_MODEL_aeec2bee05b74333af223ca068a06ba4",
              "IPY_MODEL_3c103a68dac7408d93d4a2573576029c"
            ],
            "layout": "IPY_MODEL_c430bc7812df4df4a5a8be0638d67589"
          }
        },
        "aeec2bee05b74333af223ca068a06ba4": {
          "model_module": "@jupyter-widgets/controls",
          "model_name": "ToggleButtonsModel",
          "model_module_version": "1.5.0",
          "state": {
            "_dom_classes": [],
            "_model_module": "@jupyter-widgets/controls",
            "_model_module_version": "1.5.0",
            "_model_name": "ToggleButtonsModel",
            "_options_labels": [
              "Pipeline Plot",
              "Hyperparameters",
              "AUC",
              "Confusion Matrix",
              "Threshold",
              "Precision Recall",
              "Prediction Error",
              "Class Report",
              "Feature Selection",
              "Learning Curve",
              "Manifold Learning",
              "Calibration Curve",
              "Validation Curve",
              "Dimensions",
              "Feature Importance",
              "Feature Importance (All)",
              "Decision Boundary",
              "Lift Chart",
              "Gain Chart",
              "Decision Tree",
              "KS Statistic Plot"
            ],
            "_view_count": null,
            "_view_module": "@jupyter-widgets/controls",
            "_view_module_version": "1.5.0",
            "_view_name": "ToggleButtonsView",
            "button_style": "",
            "description": "Plot Type:",
            "description_tooltip": null,
            "disabled": false,
            "icons": [
              ""
            ],
            "index": 3,
            "layout": "IPY_MODEL_6491e2267f7c403a96d1a1d9c241aa8d",
            "style": "IPY_MODEL_7f5dea0942234535bd30dc1f9392ea51",
            "tooltips": []
          }
        },
        "3c103a68dac7408d93d4a2573576029c": {
          "model_module": "@jupyter-widgets/output",
          "model_name": "OutputModel",
          "model_module_version": "1.0.0",
          "state": {
            "_dom_classes": [],
            "_model_module": "@jupyter-widgets/output",
            "_model_module_version": "1.0.0",
            "_model_name": "OutputModel",
            "_view_count": null,
            "_view_module": "@jupyter-widgets/output",
            "_view_module_version": "1.0.0",
            "_view_name": "OutputView",
            "layout": "IPY_MODEL_20a830657689489fa17830b3d1d72da1",
            "msg_id": "",
            "outputs": [
              {
                "output_type": "display_data",
                "data": {
                  "text/plain": "<Figure size 800x550 with 1 Axes>",
                  "image/png": "iVBORw0KGgoAAAANSUhEUgAAAxAAAAIWCAYAAADH12tUAAAAOXRFWHRTb2Z0d2FyZQBNYXRwbG90bGliIHZlcnNpb24zLjcuMSwgaHR0cHM6Ly9tYXRwbG90bGliLm9yZy/bCgiHAAAACXBIWXMAAA9hAAAPYQGoP6dpAAA7ZElEQVR4nO3dd1yV9f//8ecBRQQHoSZOXIni3pqapZZ7r5wfNT9qauZI0VypaLjSXKHlyFJzZLhyaxlpWC40NXMRrhzgAhWE8/vDn+crAfrmE3BQH/fbrdsnruvNxesAn27nwXVd51isVqtVAAAAAGDAwd4DAAAAAHh2EBAAAAAAjBEQAAAAAIwREAAAAACMERAAAAAAjBEQAAAAAIwREAAAAACMERAAAAAAjBEQAAAAAIwREACeWXv37lW/fv1UvXp1lShRQhUqVFD79u31zTffKDY21t7jJapz585q27Ztsh/3/Pnz8vLyUpUqVXTjxo14+4OCguTl5aXz58/HWf/4P+XKlVO9evU0ffp03blzx+jrnjlzRsOHD9frr7+ukiVL6tVXX1Xnzp21du3a5Hx4cZw+fVrNmzdXyZIlNX/+/GQ7bu3atTVw4MBkO96TDBs2TF5eXho2bFiia/r06SMvLy/NmjUrRWZYs2aNvLy8dPr06RQ5PoDnUzp7DwAA/4tPP/1U8+bNU4cOHTRnzhy9/PLLun79unbs2CFfX1/98MMPmjt3rhwc0t7fSVLqyeAjt2/f1qeffqoxY8YYrf/ggw/UvHlzSVJkZKT27dsnX19f/fnnn5o7d+4TP3fXrl16//33Va1aNU2cOFGenp66du2aNmzYoGHDhikwMFBTpkz5tw8pnq+++kqnTp3S8uXLVaBAgWQ77urVq5U+ffpkO97TuLi4aMuWLRo1apRcXV3j7AsLC9Pu3buVMWPGJB83NDRUdevW1R9//PHEdQ0bNlTNmjXl7u6e5K8B4MVFQAB45jyKg48++kjt27e3bc+dO7dKlSolb29vjRgxQgcOHFDFihXtOGnC3NzcUvT47dq104oVK9SuXTsVK1bsqeszZcqkHDly2D729PTU0aNHtWrVKsXGxiYaYVevXtUHH3ygN954QzNmzJDFYpEk5cmTR2XKlFH+/Pnl6+urli1bqlq1asnz4P6/W7du6eWXX1apUqWS9bip/US6ePHi+vPPP7Vp0ya1bt06zr4NGzbI09NTd+/eTfJxDx48aLTO2dlZzs7OST4+gBdb2vvTHAA8xaJFi1S4cOE48fC4t956S3v37o0TDxEREfL19VXNmjVVokQJvfbaa/rwww8VHh5uWzNr1ix5eXnp/v37cY7n5eWlqVOnSpKsVqv8/f1Vr149lS5dWlWrVlW/fv0UGhpqW79t2za1atVK5cuXV/ny5fX2229rz549tv3/vITp6tWrGjZsmKpVq6aSJUuqdu3a8vPz071792xrhg0bpmbNmikoKEgtW7ZUmTJl9Oabb+q7776L9/jr16+vihUrytfX1/RbmqDMmTM/8QzOypUrFRkZqWHDhtni4XEdO3bUzp0748TDrl271LZtW5UuXVply5ZV+/bt9fPPP9v2P7rMKigoSIMHD1bFihVVpUoV+fj4KDIyUtLDy4w2btyoCxcu2C7vSexSnH9ekrRixQo1adJEZcuWVaVKldS9e3f9/vvvia6/ffu2xowZoxo1aqhkyZKqVauWfH19bbNID3+effr00ebNm9WwYUOVLl1ajRs31o8//vjU77Gjo6Nq1aqlNWvWxNsXEBCg2rVrx9v+tN+XWbNmaciQIZIU5xIpLy8vzZ8/X7169VKpUqX0xx9/xPm+hYaGqly5cpo+fXqcr9elSxc1btxYUVFRT308AF4MBASAZ8qDBw904MAB1apV64nr0qWLe4LV19dX69evl5+fn7Zv365p06YpKChIo0ePTtLXX716tebNm6chQ4Zo8+bNmj9/vm7duqVevXpJks6ePasBAwaoXr16Wrt2rVatWqWSJUuqZ8+eunTpUoLHHDx4sH777TfNnTtX27Zt05gxY/Ttt99qxowZcdaFhYVp9uzZGjlypAICAlS4cGGNGjUqweOOHDlSBw4c0IYNG5L0+KKjoxUYGKj169ere/fuT1y7b98+eXl5KVeuXAnud3BwUJ48eWwf79mzR++++66KFSum1atXa8WKFcqZM6d69uwZ50m8JPn5+alatWr67rvvNHjwYAUEBOjrr7+W9PBnUKdOHXl4eCgwMPCpcz6yd+9effTRR+rWrZs2btyor776SlmzZlX37t0T/St/7969tXPnTn300UfatGmTfHx8tG7dOg0dOjTOuj///FNr1qzR1KlTtWrVKmXMmFFDhw41OnvQpEkT7d+/X+fOnbNtO3nypH7//Xc1atQo3vqn/b50795dnTp1kiQFBgZqxIgRts9dtWqVKlSooE2bNqlgwYJxjpsvXz4NGzZMCxYssIVYQECADhw4oEmTJsnJyempjwXAi4FLmAA8U8LDwxUVFZXok9bEDBw4UH369FG+fPkkSbly5VKDBg20dOlSWa3WBP+CnpDff/9duXLlUt26dSU9vGxqxowZunjxomJjY3X8+HE9ePBALVu2VPbs2SVJw4cPV6NGjZQlS5YEj+nn5yeLxWJ7TLly5VKNGjX0008/xbnB9sqVK1qwYIGKFi0qSXrnnXe0a9cuHTt2LN73o2jRomrfvr2mTJmi2rVry8XFJdHHNHHiRE2ePFmSdO/ePVmtVnXo0EHdunV74vfi77//VuHChZ+45nELFixQ4cKFNXbsWNv3e/LkyapZs6aWLVumCRMm2NZWrVrVdklPvnz5NG/ePAUHB0t6eJlRhgwZ5OjoGOfSq6c5evSoMmbMqKZNm9oCc8KECfrzzz/l6OgYb/3Bgwf122+/afr06bafd758+XT58mVNmjRJly5dsn3fL1++rBUrVtgugerYsaN8fHwUEhLy1MvIqlevrmzZsmnNmjUaNGiQJOm7775T0aJFE/zcp/2+uLq62u6b+Of3J3PmzOrZs2eis7Rr107btm3T6NGjNXv2bE2aNEnvvvuuSpQo8cTHAODFQkAAeKY8uqTmn6+ydP36dduTvEcqVKigL774wvZ5X331lXbv3q1r164pJiZG0dHRio6OVlRUlDJkyGD09d944w2tXLlSXbt2VbNmzVS1alXlypXL9sSxfPnycnd3V6dOndSuXTtVq1ZNxYoVU7ly5RI9ZnR0tObPn699+/YpLCxMsbGxioqKinevhIuLiy0epP+7Xv/WrVsJHrd///7auHGj/P39bU9ME9K7d281btzYNsu5c+c0f/58tW7dWl9++aVeeumlBD/PYrHIarUmetx/OnLkiOrXrx8n1pycnFSyZEkdO3YsztoyZcrE+djd3V03b940/loJqV69uubMmaN27dqpdevWqlq1qgoWLBjvaz0+r6R499E8+lk+Hm6enp5x7p949D1L7GfzuHTp0qlhw4YKCAjQgAEDZLVatX79enXp0iXB9aa/LwkpWbLkU9dMmDBBTZo0Ufv27ZUnTx7b2TUAeIRLmAA8U9zc3OTi4hLnnoNH2wMCAmz/1KhRw3Yvg9Vq1TvvvKOAgAD17NlTy5YtU0BAgN5+++0kf/1atWppyZIlypIliyZMmKDXX39dbdu21f79+yVJHh4eWrVqlapVq6bFixerWbNmql27tlatWpXg8SIiItSpUyft3btXgwYN0ooVKxK99j2xswiJPYnPmjWrBgwYoEWLFumvv/5K9DG5u7vL09NTnp6eKlKkiOrWrasFCxYoNDTUFmAJyZ07t0JCQhLd/0937txRpkyZ4m13dXVVREREnG3/fKymZ4iexNvbWytWrFCRIkU0c+ZM1a9fX40aNdKOHTsSnVd6+Ff7xz16DI/PnNi8poHVtGlT/f333woMDFRgYKCuXbtmi7rHJeX3JSGJnQV7XM6cOVWnTh2dPXtWrVu3jnc5IAAQEACeKY6OjqpSpYp27typBw8exNn+6Emwp6dnnJfEPHnypE6cOKFBgwapZcuWKlq0qDw9PePdFJrQk75/PrGVHv5FeubMmfrll1+0ZMkSZciQQf/9739tf23OmzevxowZox9//FEbNmxQjRo1NHLkSO3duzfesYKCgnTlyhWNHTtWDRo0UJEiReTp6RnnJt1/o23btipSpIgmTpyYpM/LnDmz8ufPr5MnTya6pmrVqjp16tQT30Ng2bJltvekyJw5c4LvLXHnzp14T9KTKrHA+OfPz8vLS5MmTdKePXu0atUqFSpUSO+9916c+w8eefRk+/bt23G2P/rY5Mm4qdKlS6tgwYL6/vvvtW7dOlWoUEG5c+eOty6lf18kKTg4WOvWrdMbb7yhmTNnKiwsLNmODeD5QEAAeOb06NFDly5dSvQ9CqKiouL8xT06OlpS3JfovHPnjrZu3Srp/4Lh0ZPYx58wHT58OM6xf/rpJ506dUrSw0tPqlSpouHDhysiIkKhoaE6fvx4nFB45ZVXNG7cOGXKlEknTpyIN2tCs50/f15BQUFJujwoMQ4ODho5cqR27dql3bt3G3/e3bt3dfnyZeXMmTPRNa1atZKbm5t8fX1tj+Nx33zzjcaOHavffvtN0sPLkvbv3x/ncd2/f19Hjx791y/HmtDPLiQkJM4b6u3fv9/287RYLCpdurR8fX0VExOTYCiVLl1akmzzP34cBwcHeXt7/6uZ/6lp06YKDAzU7t271aRJkwTXJPX3Jam/Q/fv35ePj4+aNm2qWbNmyd3dPckvNADg+UdAAHjmVKxYUcOGDdPcuXM1ePBg7du3TxcvXtQff/yhFStWqHnz5jp27JjtZV4LFSqkrFmzaunSpTp79qwOHTqkHj162O6ZCAoK0t27d21PGP39/fXXX39p7969mjVrVpzLbtasWaO+ffsqMDBQFy9e1MmTJ7Vo0SJly5ZNhQsX1qFDh9SnTx99++23Cg0NVWhoqBYuXKjIyEhVqFAh3mMpWbKk0qVLp4ULFyo0NFR79+5V37591aBBA924cUPHjh371y+fWaFCBTVu3Fhffvllgvvv3Lmjq1ev6urVq/r777914MABvffee7ZLvxLj7u6uqVOn6sCBA+rcubN++OEHXbhwQUePHtXEiRM1duxY9ezZ0/Z97tGjh86cOaOPPvpIp0+f1vHjxzVw4EDdv39fnTt3/leP0dvbW+nSpdOCBQtsP+ORI0fGCaBdu3apT58+2rp1qy5cuKAzZ87I399fzs7OCQbMo5fp9fPz0w8//KDQ0FCtXbtW/v7+at68uV5++eV/NfM/NW3aVNeuXdPdu3dVv379BNeY/r48Ojuyfft2nTlzxniG6dOn69atW/Lx8VH69Onl6+urHTt2KCAgIDkeIoDnBBc2Angmde3aVeXLl9fixYs1ePBghYeHy8XFRfnz51e9evXUoUMH2yvQuLi4aOrUqfr444/VrFkzeXp6asCAASpXrpwOHjyo/v37a+7cuapevboGDhyopUuXKiAgQMWLF9eoUaPi3EQ6fvx4TZ06VSNGjND169eVJUsWlSlTRgsXLpSzs7Pat2+vu3fv6osvvtC4ceOUPn16FSlSRJ9++qktUB6XJ08eTZgwQTNnzlTjxo1VtGhRjR49Wi+99JJ+/fVXdezYMdH7J5Ji6NCh2rlzZ4JnCqZOnWp7nwtHR0dlz55dlSpV0tKlS+O91Oc/1axZU2vXrtX8+fM1duxYXb16VW5ubipevLjmzZun1157zba2cuXK+uyzzzR79my1aNFCjo6OKlOmjJYsWZKkV3NKSO7cuTVu3DjNmTNHTZs2VYECBeTj46OZM2fa1rz//vtydHTUpEmTdOXKFbm4uKh48eL6/PPPE31Vrzlz5mjy5MkaMWKEbty4oZw5c6pTp07q16/fv5o3IXnz5lWFChWUJUuWRG+INv19adq0qdavX68BAwbojTfe0OzZs5/69X/77Td9+eWXmjZtmu3rly1bVh07dtSECRNUtWpVeXh4JOMjBvCssliT4xw5AAAAgBcClzABAAAAMEZAAAAAADBGQAAAAAAwRkAAAAAAMEZAAAAAADBGQAAAAAAw9ty8D8TBgwdltVqVPn16e48CAAAAPFOio6NlsVhUrly5p659bgLCarUqOjpaFy9etPcoAIAEeHp62nsEAEAikvLWcM9NQKRPn14XL17UgBMzn74YAJDqTjXeKkn65cqPdp4EAPBPrn+7G6/lHggAAAAAxggIAAAAAMYICAAAAADGCAgAAAAAxggIAAAAAMYICAAAAADGCAgAAAAAxggIAAAAAMYICAAAAADGCAgAAAAAxggIAAAAAMYICAAAAADGCAgAAAAAxggIAAAAAMYICAAAAADGCAgAAAAAxggIAAAAAMYICAAAAADGCAgAAAAAxggIAAAAAMYICAAAAADGCAgAAAAAxggIAAAAAMYICAAAAADGCAgAAAAAxggIAAAAAMYICAAAAADGCAgAAAAAxggIAAAAAMYICAAAAADGCAgAAAAAxggIAAAAAMYICAAAAADGCAgAAAAAxggIAAAAAMYICAAAAADGCAgAAAAAxggIAAAAAMYICAAAAADGCAgAAAAAxggIAAAAAMYICAAAAADGCAgAAAAAxggIAAAAAMYICAAAAADGCAgAAAAAxggIAAAAAMYICAAAAADGCAgAAAAAxggIAAAAAMYICAAAAADGCAgAAAAAxggIAAAAAMYICAAAAADGCAgAAAAAxggIAAAAAMYICAAAAADGCAgAAAAAxggIAAAAAMYICAAAAADGCAgAAAAAxggIAAAAAMYICAAAAADGCAgAAAAAxggIAAAAAMYICAAAAADGCAgAAAAAxggIAAAAAMYICAAAAADGCAgAAAAAxggIAAAAAMYICAAAAADGCAgAAAAAxggIAAAAAMYICAAAAADGCAgAAAAAxggIAAAAAMYICAAAAADGCAgAAAAAxggIAAAAAMYICAAAAADGCAgAAAAAxggIAAAAAMYICAAAAADGCAgAAAAAxggIAAAAAMYICAAAAADGCAgAAAAAxggIAAAAAMYICAAAAADGCAgAAAAAxggIAAAAAMYICAAAAADGCAgAAAAAxggIAAAAAMYICAAAAADGCAgAAAAAxggIAAAAAMYICAAAAADGCAgAAAAAxggIAAAAAMYICAAAAADGCAgAAAAAxtLZewDgRZUnS051q9BSNQtUVO4sORQTG6M/r4co4NgOLT+8UbHW2DjrMzm5aEydvmpR4k0FhR5WxxVD7DQ5ALw4Nn6zSdNHzlbE7Qit+XW5cuXPFW/NxZBLWjBtsfb9uF83rt+Qm3tWVX69onp80DXB9cCzjoAA7KBo9gL6uu0UOTmm07LDG3Xy2lm9lDGr2paqr7F131PZXMU0ZNMU2/pq+ctqUv0PlMU5kx2nBoAXR9jVcE0aMk0/bf5ZzhkzJLruwrmL+m/DPrp/P0rteraWZ5H8On/2vJb7r9IvO/fpi02fKVc+j1ScHEh5dg+IBw8eaPHixVq7dq1CQkLk6OioEiVKqFu3bqpTp469xwNSxLi6/eXuklVvLx+k3y4ctW1fdWSztnRfoBYl3tTsvUsVcuOiquUvqy/b+Omnc/s18+ev9G2nmXacHABeDO/U763oqGh9snySlsxcqoN7Die4buaYOQq/fkOfrpyqyrUq2raXqlRS77f9QLPGfqaJX4xNrbGBVGH3eyAGDRqkKVOmqECBAho7dqx8fHx09+5d9enTR8uXL7f3eECK+P6P3fL78fM48SBJd6IideDC75Kk3FleliQ5p8ugibvm6Z1vR+haZHiqzwoAL6KSFbz11a6FqvpG5UTXhF0N18/b9qpQsYJx4kGSKteqqEJeBbR7U6Buht1M6XGBVGXXMxDbt2/Xli1b1LhxY02bNs22vXnz5mratKkmTZqkevXqyd3d3Y5TAslvycGABLdbZJHnS3kUFROt09f/kiTtOhOUipMBACRp/PwxT11z/NAJxcTEqlSlkgnuL1W5lM78cU7HDp1QtdpVkntEwG7segZi9erVkqRu3brF2e7s7Kx27drp7t272rBhgz1GA1KNa/qMcndxU6W8pTSvxVgVzV5Afj98risRYfYeDQDwBBdDLkmSPPK8nOD+R9svnLuYajMBqcGuZyAOHTqkDBkyyNvbO96+8uXLS5IOHjyoLl26pPZoQKpZ3v4Teb9cWJJ08to5dVs9XHv/OmTfoQAATxVxJ1KS5OzinOD+R9sjbkem2kxAarBbQNy5c0fh4eHy9PSUg0P8EyG5c+eWJP3111+pPRqQqj7c8oncnLMon5uHmhWvo0WtP9a8oBWa/vNie48GAHgCi8XyxP1WayoNAqQyuwVERESEJCljxowJ7n+0/c6dO6k2E2APR//+8+G/hEgrgjdpdtNR6lutg478fVLbT+2x73AAgES5ZnaRJN2NuJvg/siIh2ceMmVxTbWZgNRgt3sgnl7tZDtePLHWWK08skmS9HrBxF/5AwBgf3kL5pEkXT7/d4L7L/318B6J/IXzpdpMQGqwW0BkyvTwDbEiIxO+LvDRGYrMmTOn2kxAasiVOYd+7PmVvmo7OcH9WTM8/J13eEpkAwDsy7tccaV3Sq9DvwQnuP/Q3mA5OTvJu1yxVJ4MSFl2CwgXFxflyJFDly9fVkxMTLz958+flyQVLFgwtUcDUtSl21cVa7Wqct5SqpCnRLz9LUu+KUnad/5Iao8GAEiCLG6ZVbtJLf11OlS7NwXG2bdz/Q+6EHJR9VrWlWtmLmHC88Wur8JUvnx5bdmyRYcPH7a96tIj+/btkyRVqlTJHqMBKWr0tk/l33ysFrf+WMsPb9Txq2eU2clVTYq/rnK5vfXb+aNaf3ynJKly3lJyd3GTJLlnzGr73/pFa9qOty80WGF3eaMiAEgOl0Iv6/ihE7aPb1x/+N/XvTv3yS3bw/8O58rnoeJli6nfmHd16JdgjXnXV2/3bqMCr3jq7B/n9M38VcpTILf6jOxpl8cApCSL1Y43G+zZs0fdunVT3bp1NWfOHNv227dvq1GjRrp//7527Nhhu9zpSY4cOaKQkBANODEzJUcGks0r2QuoZ6U2qpqvrLK5uulBbIzOhZ3X93/s1sL93yoqJlqStLTdFFXJV+aJx+q44gMFhSZ8Ch1IK059sFWS9MuVH+08CfBkG7/ZJN/3Jz1xTcN29TRq5nBJ0tXL17Rg6pfas32vwq/dULaX3VWj3qvqPug/cs/xUmqMDPxrrn8/fOPmUqVKPXWtXQNCkkaMGKHVq1erdu3aeuuttxQZGanly5frzJkz+uSTT1S/fn2j4xAQAJC2ERAAkHYlJSDsegmTJI0fP17e3t5auXKlxowZIycnJ5UpU0ajR49W5cq8Cg0AAACQltg9IBwcHNSxY0d17NjR3qMAAAAAeAq7vQoTAAAAgGcPAQEAAADAGAEBAAAAwBgBAQAAAMAYAQEAAADAGAEBAAAAwBgBAQAAAMAYAQEAAADAGAEBAAAAwBgBAQAAAMAYAQEAAADAGAEBAAAAwBgBAQAAAMAYAQEAAADAGAEBAAAAwBgBAQAAAMAYAQEAAADAGAEBAAAAwBgBAQAAAMAYAQEAAADAGAEBAAAAwBgBAQAAAMAYAQEAAADAGAEBAAAAwBgBAQAAAMAYAQEAAADAGAEBAAAAwBgBAQAAAMAYAQEAAADAGAEBAAAAwBgBAQAAAMAYAQEAAADAGAEBAAAAwBgBAQAAAMAYAQEAAADAGAEBAAAAwBgBAQAAAMAYAQEAAADAGAEBAAAAwBgBAQAAAMAYAQEAAADAGAEBAAAAwBgBAQAAAMAYAQEAAADAGAEBAAAAwBgBAQAAAMAYAQEAAADAGAEBAAAAwBgBAQAAAMAYAQEAAADAGAEBAAAAwBgBAQAAAMAYAQEAAADAGAEBAAAAwBgBAQAAAMAYAQEAAADAGAEBAAAAwBgBAQAAAMAYAQEAAADAGAEBAAAAwBgBAQAAAMAYAQEAAADAGAEBAAAAwBgBAQAAAMAYAQEAAADAGAEBAAAAwBgBAQAAAMAYAQEAAADAGAEBAAAAwNj/FBCnT5+2/fulS5e0ePFi7d69O9mGAgAAAJA2JTkgVq1apTZt2kiS7ty5o3bt2mnp0qUaMmSIli5dmuwDAgAAAEg7khwQixYt0uzZsyVJGzduVMaMGfX9999r4cKFWrZsWbIPCAAAACDtSHJAXLp0Sa+++qokKTAwUA0bNlT69OlVokQJXbp0KdkHBAAAAJB2JDkgXFxcdOfOHUVFRWnfvn2qXr26pIeXMzk6Oib7gAAAAADSjnRJ/YRXX31V77//vhwdHZU5c2ZVqFBBDx480Jw5c1SqVKmUmBEAAABAGpHkMxCjRo1S3rx5lSlTJs2ZM0cWi0V3797Vzp07NWLEiJSYEQAAAEAakeQzEFmyZNHYsWPjbMucObO2bNmSbEMBAAAASJuSfAbiypUrGjJkiO3jGTNmqGLFimrXrp1CQ0OTdTgAAAAAaUuSA2L8+PG6f/++JCk4OFgLFizQsGHDVLx4cU2ePDnZBwQAAACQdiT5EqZ9+/Zp69atkqRNmzapbt26at26tRo0aKA333wz2QcEAAAAkHYk+QxEdHS0smbNKkn65Zdf9Nprr0mSXF1dFRkZmbzTAQAAAEhTknwGIl++fAoMDJSzs7NOnjypGjVqSHp4OVO2bNmSfUAAAAAAaUeSA6JXr17q1auXYmNj1blzZ+XIkUM3b95U37591alTp5SYEQAAAEAakeSAaNiwoSpUqKCIiAgVKlRI0sOXdh06dKiaNGmS7AMCAAAASDuSfA+EJOXMmdMWD5JksVjUoEED1a5dO9kGAwAAAJD2JPkMxL179zR37lwdOnRIUVFRtu1Xr17VvXv3knU4AAAAAGlLks9ATJw4UWvWrFGOHDl05MgR5c+fXzdv3lT27Nnl7++fEjMCAAAASCOSHBC7du3S8uXLNW3aNDk6Omry5MnasGGDihYtqpCQkJSYEQAAAEAakeSAuHnzpvLly/fwkx0cFBsbK0dHR/Xr10+zZ89O9gEBAAAApB1JDggPDw8dPHhQkuTu7q7Dhw9LkjJlyqQrV64k73QAAAAA0pQk30TdoUMHderUSXv27FGdOnXUv39/vfnmmzp27Ji8vLxSYkYAAAAAaUSSA6Jr167KnTu3smTJoiFDhigyMlJ79+6Vp6enhg4dmhIzAgAAAEgjkhwQkvTWW29JkpycnDRhwoRkHQgAAABA2mUUEJ988onRwSwWiwYOHPivBgIAAACQdhkFxIYNG4wORkAAAAAAzzejgNi5c2dKzwEAAADgGZCkl3GNiYnRxYsX420PDg6W1WpNtqEAAAAApE3GAREVFaWOHTsm+GZxQ4YMUZ8+fYgIAAAA4DlnHBALFy7U9evX1bt373j7vvzyS506dUorV65M1uEAAAAApC3GAbF582aNHDlS+fPnj7fPw8NDI0aM0Jo1a5J1OAAAAABpi3FAXLhwQVWqVEl0f9WqVXXu3LnkmAkAAABAGmUcEA8ePJCTk1Oi+x0dHRUVFZUsQwEAAABIm4wDIl++fAoODk50/549e5QvX75kGQoAAABA2mQcEG+99Zb8/PwUERERb9+1a9c0btw4NWjQIFmHAwAAAJC2WKyGr70aERGhNm3a6ObNm3r77bdVuHBhOTk56ciRI1q6dKny58+vZcuWydnZOaVnTtCRI0cUEhKiLl262OXrAwCeLCwszN4jAAASceTIEUlSqVKlnrrW6J2oJcnV1VXffPONpk6dqiVLluj27duSJDc3N7Vo0ULvv/++3eIBAJD2ubu7ExEA8BwwPgPxOKvVqrCwMFksFrm7u6fEXEn2qJqyFc5i50kAAAkpmbecJCm8goudJwEA/NP69/3l6emZvGcgHmexWJQtW7b/5VMBAAAAPMOMb6IGAAAAAAICAAAAgDECAgAAAICx/zkgoqOjFRoampyzAAAAAEjjkhwQ9+7dk4+Pj8qVK2d747hbt26pR48eunXrVrIPCAAAACDtSHJATJkyRcePH9fUqVPl6Oho2x4TE6OpU6cm63AAAAAA0pYkB8SWLVs0c+ZM1a9f37YtS5Ys+vjjj7V169ZkHQ4AAABA2pLkgIiIiFCBAgXibXd3d1dkZGRyzAQAAAAgjUpyQOTPn19BQUGSHr4j9SObN29W7ty5k28yAAAAAGlOkt+JukOHDnrvvffUqlUrxcbGatGiRTp69Ki2bNmiESNGpMSMAAAAANKIJAdEu3btlC5dOn399ddydHSUv7+/ChYsqKlTp8a5LwIAAADA8yfJASFJrVq1UqtWrZJ7FgAAAABpXJIDIiAg4In7mzdv/j+OAgAAACCtS3JADBs2LOEDpUsnZ2dnAgIAAAB4jiU5IIKDg+N8HBMTozNnzmj+/Pnq0qVLsg0GAAAAIO1J8su4Ojk5xfknY8aMKlGihEaNGqVx48alxIwAAAAA0ogkB0RismTJopCQkOQ6HAAAAIA0KMmXMAUGBsbbdu/ePX3//ffy8PBIlqEAAAAApE1JDogePXrIYrHEeRdqSXJzc5Ofn1+yDQYAAAAg7UlyQOzYsSPeNmdnZ7m7u8tisSTLUAAAAADSpiQHxOLFizVixIiUmAUAAABAGpfkm6g3bdqkmzdvpsQsAAAAANK4JJ+BGDp0qIYPH65WrVopX758Sp8+fZz9BQsWTLbhAAAAAKQt/1NASNLOnTvj3PNgtVplsVh0/Pjx5JsOAAAAQJqS5IBYsmRJSswBAAAA4BlgHBBlypTR4cOHVbly5ZScBwAAAEAaZnwT9T/f9wEAAADAi8c4IHiPBwAAAADGlzDFxMRo5cqVTzwTYbFY1LZt22QZDAAAAEDaYxwQDx480OjRo5+4hoAAAAAAnm/GAZEhQwYdPnw4JWcBAAAAkMYl+Z2oAQAAALy4eBUmAAAAAMaMA6JZs2YpOQcAAACAZ4BxQIwfPz4l5wAAAADwDOAeCAAAAADGCAgAAAAAxggIAAAAAMYICAAAAADGCAgAAAAAxggIAAAAAMYICAAAAADGCAgAAAAAxggIAAAAAMYICAAAAADGCAgAAAAAxggIAAAAAMYICAAAAADGCAgAAAAAxggIAAAAAMYICAAAAADGCAgAAAAAxggIAAAAAMYICAAAAADGCAgAAAAAxggIAAAAAMYICAAAAADGCAgAAAAAxggIAAAAAMYICAAAAADGCAgAAAAAxggIAAAAAMYICAAAAADGCAgAAAAAxggIAAAAAMYICAAAAADGCAgAAAAAxggIAAAAAMYICAAAAADGCAgAAAAAxggIAAAAAMYICAAAAADGCAgAAAAAxggIAAAAAMYICAAAAADGCAgAAAAAxggIAAAAAMYICAAAAADGCAgAAAAAxggIAAAAAMYICAAAAADGCAgAAAAAxggIAAAAAMYICAAAAADGCAgAAAAAxggIAAAAAMYICAAAAADGCAgAAAAAxggIAAAAAMYICAAAAADGCAgAAAAAxggIAAAAAMYICAAAAADGCAgAAAAAxggIAAAAAMYICAAAAADGCAgAAAAAxggIAAAAAMYICAAAAADGCAgAAAAAxggIAAAAAMbS2XsAAA9VKV5d5/+68MQ1bTq20oz501JpIgDAI3XL19S2ScslSZY388bZ16BybfVt+h+VKeStl92y6fqtcAX+/qumrpqnfScO2mNcIEUREEAa8fEMX0VG3k1w396fftHieUtUrESxVJ4KAJApo6u+GDQlwX0+7frKr8dwBZ85rqmr/HX99g2VKVRc7zbuohbV66vhiC7atn93Kk8MpKw0ExBr1qzRhAkTdOfOHe3YsUN58+Z9+icBz5Ha9d5IcHtkRKR8R0xU8ZLF1KNvt1SeCgAwpedIZcvyko7/9aeK53/Ftr1InoKa2N1HR8+eUJX3muhe1D1J0teSfjl+UKtHz9PoTgMICDx37B4Q169f1+jRo7Vjxw5lzJjR3uMAaY7fmMm6EHpR63atUbp0dv+/LAC8UN4o+6p6NuyoEYsmqV7F1+MEhCR9uHCSDpw6YouHRzb9ulOS5PkyfxDF88fuN1G3bt1ahw8f1ueff66SJUvaexwgTTl66KgWzVuiLv/tpHIVy9p7HAB4obg6u2jBoKk6eOqopqz0j7f/1IWzmrRiToJnGIrlKyJJOnzmWIrPCaQ2uwdE2bJltW7dOtWsWdPeowBpzsdjJitTZlcNHjHQ3qMAwAtn0n8/VJ7sHuo+bbBiYmOeuNbBwUFZXbMo/8t51KluK60fv0ghf5/XkM99U2laIPXY/XqI6dOn23sEIE36JTBIP2zfrQHD+ss920v2HgcAXii1SlfTu427yHfZTAWfOf7U9aUKFtMh/62SpJiYGC3bFaBB/mN17WZYSo8KpDq7BwSAhE2dMF0ZMjjpnXe72nsUAHihZMzgrAWDp+j3kJPyXfqp0eecunBOrw9uo8wurqrsVVY9G3XUgbmb1eHjfgo8ui+FJwZSFwEBpEGn/jilvbt/UZNWjeSe3d3e4wDAC8XvnQ/lmTOvqvVvpugH0UafE3EvUj8G75UkbfhluxZvXaX9c7/XipFzVeQ/NXT3/r2nHAF4dtj9HggA8a1dvV6S1Kh5QztPAgAvluolKqlfs676/PtluhR2RXmy57L9kyG9kyTZPn6SM5dCtO3AT8qdzUNlC5dIjdGBVMMZCCAN2rnlB1ksFtV8o4a9RwGAF0rd8jXl4OCgd5t00btNuiS45vzyXyVJA+aO0fD2/fThwklauPmbeOteypRVkuRg4e+1eL4QEEAaExUVpd+Djyl33txyeymrvccBgBfKsp3f6beThxPc9/E7w1WqYDE1HvkfSdKdu5HK+VIOvd/iHX29Y42ioqNsa4vmLaTqJSrpduQdHTh1JFVmB1ILAQGkMX+dC1V0dLTyF+DNhwAgtf154az+vHA2wX0ftOktSdoYtMO2bfHWler6Vlsd8t+ihZtX6HL4VRXNU1B9mv5HGTM4q8/MD7n/Ac8dAgJIY27euClJypQ5s50nAQA8Tbcpg7T9QKB6NGivER3eU6aMrgq/fVNBJw5qxpovEnyTOeBZZ9eAuHDhgo4c+b/TemFhD18reffu3XJ3f/jKM3ny5FGpUqXsMh9gDxUql9eFiHP2HgMA8A9vfNAmwe1Ld6zR0h1rUnkawH7sGhBBQUEaPnx4vO1jx461/XuLFi3k5+eXmmMBAAAASIRdA6Jly5Zq2bKlPUcAAAAAkAS8rhgAAAAAYwQEAAAAAGMEBAAAAABjBAQAAAAAYwQEAAAAAGMEBAAAAABjBAQAAAAAYwQEAAAAAGMEBAAAAABjBAQAAAAAYwQEAAAAAGMEBAAAAABjBAQAAAAAYwQEAAAAAGMEBAAAAABjBAQAAAAAYwQEAAAAAGMEBAAAAABjBAQAAAAAYwQEAAAAAGMEBAAAAABjBAQAAAAAYwQEAAAAAGMEBAAAAABjBAQAAAAAYwQEAAAAAGMEBAAAAABjBAQAAAAAYwQEAAAAAGMEBAAAAABjBAQAAAAAYwQEAAAAAGMEBAAAAABjBAQAAAAAYwQEAAAAAGMEBAAAAABjBAQAAAAAYwQEAAAAAGMEBAAAAABjBAQAAAAAYwQEAAAAAGMEBAAAAABjBAQAAAAAYwQEAAAAAGMEBAAAAABjBAQAAAAAYwQEAAAAAGMEBAAAAABjBAQAAAAAYwQEAAAAAGMEBAAAAABjBAQAAAAAYwQEAAAAAGMEBAAAAABjBAQAAAAAYwQEAAAAAGMEBAAAAABjBAQAAAAAYwQEAAAAAGMEBAAAAABjBAQAAAAAYwQEAAAAAGMEBAAAAABjBAQAAAAAYwQEAAAAAGMEBAAAAABjBAQAAAAAYwQEAAAAAGMEBAAAAABjBAQAAAAAYwQEAAAAAGMEBAAAAABjBAQAAAAAYwQEAAAAAGMEBAAAAABjBAQAAAAAYwQEAAAAAGMEBAAAAABjBAQAAAAAYwQEAAAAAGMEBAAAAABjBAQAAAAAYwQEAAAAAGMEBAAAAABjBAQAAAAAYwQEAAAAAGMEBAAAAABjBAQAAAAAYwQEAAAAAGMEBAAAAABjBAQAAAAAYwQEAAAAAGMEBAAAAABjBAQAAAAAYwQEAAAAAGMEBAAAAABjBAQAAAAAYwQEAAAAAGMEBAAAAABjBAQAAAAAYwQEAAAAAGMEBAAAAABjBAQAAAAAYwQEAAAAAGPp7D1AcomOjpbVatX107fsPQoAIAFLliyx9wgAgETkyJFD0dHRRmufm4CwWCz2HgEA8ASenp72HgEAkIjo6Gjj59MWq9VqTeF5AAAAADwnuAcCAAAAgDECAgAAAIAxAgIAAACAMQICAAAAgDECAgAAAIAxAgIAAACAMQICAAAAgDECAgAAAIAxAgIAAACAsXT2HgB40YWHh2vjxo06ePCg/vrrL925c0eSlDlzZhUsWFCVKlVSgwYN5OrqaudJAQAAJIvVarXaewjgRbVixQr5+fnp3r17Suz/ihaLRW5ubho3bpzefPPNVJ4QAGDq6NGjWrp0qT7++GN7jwKkKAICsJOdO3eqT58+8vT0VLt27VS+fHnlypVLLi4uslqtioiI0Pnz5xUUFKSVK1cqLCxMixcvVsWKFe09OgAgAVu2bNGAAQN0/Phxe48CpCgCArCTzp076969e/r666+VIUOGJ669ffu2OnToIA8PD33++eepNCEAICkICLwouAcCsJPff/9dw4YNe2o8SA/vh3j77bf16aefpsJkAABJunjxYpLWh4WFpdAkQNpCQAB2EhMTIycnJ+P1rq6uioqKSsGJAACPq127tiwWi73HANIcAgKwE09PT+3atUvNmzc3Wr9161YVLFgwZYcCANi4urrKarWqRIkSRuvDw8N1+vTpFJ4KsD8CArCTpk2baurUqRo6dKi6du0qb2/veGusVqsOHz6sBQsWaNeuXRo1apQdJgWAF9OIESM0cuRI9e7dW9WrV3/q+s2bN2vgwIGpMBlgXwQEYCfdunVTcHCw1q1bp/Xr1ytDhgzKmTOnXFxcJEmRkZG6fPmyoqKiZLVa1bp1a3Xo0MHOUwPAi6Nly5basWOHhg8frnXr1snNze2J67ncCS8KXoUJsLPt27dr9erVOnz4sMLDw+Psy549uypUqKC3335b1apVs9OEAPDiCgsLU6tWrVS+fHlNmzbtiWu3bNmi999/XydOnEil6QD7ICCANCQiIkIRERGyWCzKlCmTMmbMaO+RAACGLl68qKCgILVo0cLeowApioAAAAAAYMzB3gMAAAAAeHYQEAAAAACMERAAAAAAjBEQAAAAAIwREAAASdLp06fl5eWloKAgSVL37t01dOjQVJ2hevXqmjVr1r8+TlBQkLy8vHhXYABIAbyRHACkUZ07d9Zvv/2mdOke/qfaarXKxcVFr776qvr3769ChQql6NdfuHCh8drLly/rp59+Ups2bVJwoodOnDihL774QkFBQbp586YyZcokb29vde7cWbVq1Urxrw8ALzrOQABAGla/fn0dOXJER44c0dGjRxUQEKAHDx6oQ4cOun37tr3Hs9m2bZtWrVqV4l9nx44datOmjXLkyKGVK1fq8OHD+u6771S+fHm9++67WrJkSYrPAAAvOgICAJ4huXPn1ogRIxQeHq4DBw5IkmrXrq1Zs2apXbt2qlKliiQpNjZW/v7+atCggcqUKaPXX39dM2bMUExMjO1Y27dvV8OGDVWmTBm1bt063rvndu7cWQMHDrR9vGfPHrVu3Vply5ZV7dq1NXv2bFmtVk2aNEkTJ05UcHCwSpUqpZ9//lnSw6ho06aNypcvrypVqmjIkCEKCwuzHe/06dPq2LGjypUrp7p162rDhg1PfOwRERH68MMP1aJFC/n4+ChXrlyyWCzKmTOn+vTpo5EjRyoyMjLBz7127ZoGDx6sypUrq2zZsmrUqJHWrVtn2x8VFaVx48apZs2aKlOmjGrXri1/f389equkvXv3qm3btqpQoYIqVqyobt266dSpU0/9eQHA84hLmADgGfPgwQNJUvr06W3bVq9eLT8/P1tAzJ49W2vWrNHs2bPl7e2tY8eOqU+fPpKkAQMG6OLFi+rfv7/69u2r//73vzp//vwT73c4efKkevXqpdGjR6tZs2Y6e/asunbtKmdnZ/n4+Cg8PFxnzpzRypUrJT18wj1o0CD5+fmpXr16unbtmnx8fNSvXz8tW7ZMVqtVffv2laenp3788UfFxsZq3LhxunXrVqIz/Pzzz7px44Z69OiR4P4OHTok+rkjR45UeHi4tm7dqsyZM2vlypXy8fGRt7e3ihQposWLF+vXX3/VmjVrlCNHDh05ckS9evWSt7e3qlWrpr59+2ro0KFq06aN7t69q08++UQjR47UN998k+jXBIDnFWcgAOAZYbVadf78eU2YMEEFChRQ+fLlbfsePdF1cHBQbGysli5dqnfeeUclS5aUg4ODSpYsqf/85z8KCAiQJG3atEmurq7q1auXnJycVKhQIXXt2jXRr7169WoVKFBAbdq0kZOTk7y8vDRz5kyVLVs2wfVff/21Xn/9dTVq1Ejp0qWTh4eHPvjgA+3fv1+hoaE6evSozp49q379+ilLlixyc3OTj4+PoqKiEp3h3LlzypAhg/Lly5fk792MGTO0YMECubm5ydHRUa1atVJsbKyCg4MlSbdu3ZKDg4MyZswoSbYzKa+99pqioqJ07949OTs7y9HRUZkyZdKoUaOIBwAvLM5AAEAatnnzZm3fvt32cY4cOVSpUiUtWrRIzs7Otu358+e3/XtYWJhu3LihSZMmafLkybbtjy7HiYqK0qVLl+Th4WG7QVuSXnnllUTnCAkJiffEvVKlSomuP3PmjEJCQlSqVKk42x0dHXX+/Hnb/RuPHzNnzpxyc3NL9JgWi0Xp0qWTxWJJdM2T5pk+fbqCg4MVERFhO8b9+/clSR07dtRPP/2kGjVqqFKlSqpevbqaNGmibNmyydXVVYMGDdKoUaPk7++vatWq6c0339Srr76a5DkA4HlAQABAGla/fn1Nnz79qesev5zpUVhMmTJFDRo0SHD9oyfOj3sUGAl5dGbDlLOzs9q1a6cxY8YkuH/9+vUJbn/S1yhUqJAiIiJ05syZJL0C1Z07d9StWzdVqVJFa9eulYeHh2JiYuTt7W1bkytXLq1du1bBwcHas2eP1q5dq1mzZmnx4sUqVaqUevToodatW+vnn3/WTz/9pL59+6p27dqaNm2a8RwA8LzgEiYAeM5kypRJOXLk0O+//x5n+7Vr12w3GXt4eOjy5cu2+ykkxbuJ+nEFChTQmTNn4mzbu3evvv/++wTXFyxYMN7Xv3v3rq5cuSLp4RN2STp//rxt/8WLF594D0T16tWVPXt2zZgxI8H9S5cuVadOneLcKC5Jp06dst074eHhIUk6dOhQnDWRkZG6d++eSpcurd69e2vNmjUqXry41q5dK+nhWR03Nzc1atRIfn5+mjt3rjZs2KAbN24kOi8APK8ICAB4DnXt2lXLly/X7t279eDBA505c0bdu3eXn5+fJKlOnTq6ffu2Fi5cqKioKJ06deqJL4Hatm1bXbhwQQsXLtT9+/d1+vRpDRs2zBYAGTNm1JUrVxQeHq67d++qa9euCg4O1sKFCxUZGanw8HCNHDlSXbt2VWxsrEqXLq0cOXLos88+0+3btxUWFiY/Pz9lyJAh0RmcnZ01adIk/fDDD+rfv79CQkJktVp19epVzZkzR35+fmrTpo0cHR3jfF6ePHmULl06/frrr3rw4IEOHjyozz//XFmyZNGlS5ckSX379tWHH36o69evS3p4ydalS5dUsGBB7d+/X3Xq1FFgYKBiYmIUFRWlQ4cOKXv27MqaNeu/+jkBwLOIS5gA4DnUrVs33bt3Tx999JGuXLmirFmzqmnTphowYIAkqVixYpo2bZpmzZqlOXPmqHDhwnrvvffUu3fvBI9XsGBBLV68WL6+vpoxY4ayZ8+uVq1a2V4RqVmzZtq2bZtq1aqlCRMmqEmTJpoxY4Y+++wzTZ8+XenTp1eNGjX0+eefy8HBQU5OTvriiy80ZswY1axZU9myZVP//v31xx9/PPFx1ahRQ99++63mzZunTp066ebNm8qaNavKlSunr7/+WmXKlIn3OTly5NDo0aM1e/ZszZ49W2XKlNH48eO1cuVKLV68WBaLRX5+fho/frwaNGig+/fvK0eOHGratKnat28vBwcHDRs2TBMmTNDFixfl7Owsb29v+fv7/0/3YwDAs85ifdJFrwAAAADwGC5hAgAAAGCMgAAAAABgjIAAAAAAYIyAAAAAAGCMgAAAAABgjIAAAAAAYIyAAAAAAGCMgAAAAABgjIAAAAAAYIyAAAAAAGCMgAAAAABgjIAAAAAAYOz/ARy5fZEBxiBpAAAAAElFTkSuQmCC\n"
                },
                "metadata": {}
              }
            ]
          }
        },
        "c430bc7812df4df4a5a8be0638d67589": {
          "model_module": "@jupyter-widgets/base",
          "model_name": "LayoutModel",
          "model_module_version": "1.2.0",
          "state": {
            "_model_module": "@jupyter-widgets/base",
            "_model_module_version": "1.2.0",
            "_model_name": "LayoutModel",
            "_view_count": null,
            "_view_module": "@jupyter-widgets/base",
            "_view_module_version": "1.2.0",
            "_view_name": "LayoutView",
            "align_content": null,
            "align_items": null,
            "align_self": null,
            "border": null,
            "bottom": null,
            "display": null,
            "flex": null,
            "flex_flow": null,
            "grid_area": null,
            "grid_auto_columns": null,
            "grid_auto_flow": null,
            "grid_auto_rows": null,
            "grid_column": null,
            "grid_gap": null,
            "grid_row": null,
            "grid_template_areas": null,
            "grid_template_columns": null,
            "grid_template_rows": null,
            "height": null,
            "justify_content": null,
            "justify_items": null,
            "left": null,
            "margin": null,
            "max_height": null,
            "max_width": null,
            "min_height": null,
            "min_width": null,
            "object_fit": null,
            "object_position": null,
            "order": null,
            "overflow": null,
            "overflow_x": null,
            "overflow_y": null,
            "padding": null,
            "right": null,
            "top": null,
            "visibility": null,
            "width": null
          }
        },
        "6491e2267f7c403a96d1a1d9c241aa8d": {
          "model_module": "@jupyter-widgets/base",
          "model_name": "LayoutModel",
          "model_module_version": "1.2.0",
          "state": {
            "_model_module": "@jupyter-widgets/base",
            "_model_module_version": "1.2.0",
            "_model_name": "LayoutModel",
            "_view_count": null,
            "_view_module": "@jupyter-widgets/base",
            "_view_module_version": "1.2.0",
            "_view_name": "LayoutView",
            "align_content": null,
            "align_items": null,
            "align_self": null,
            "border": null,
            "bottom": null,
            "display": null,
            "flex": null,
            "flex_flow": null,
            "grid_area": null,
            "grid_auto_columns": null,
            "grid_auto_flow": null,
            "grid_auto_rows": null,
            "grid_column": null,
            "grid_gap": null,
            "grid_row": null,
            "grid_template_areas": null,
            "grid_template_columns": null,
            "grid_template_rows": null,
            "height": null,
            "justify_content": null,
            "justify_items": null,
            "left": null,
            "margin": null,
            "max_height": null,
            "max_width": null,
            "min_height": null,
            "min_width": null,
            "object_fit": null,
            "object_position": null,
            "order": null,
            "overflow": null,
            "overflow_x": null,
            "overflow_y": null,
            "padding": null,
            "right": null,
            "top": null,
            "visibility": null,
            "width": null
          }
        },
        "7f5dea0942234535bd30dc1f9392ea51": {
          "model_module": "@jupyter-widgets/controls",
          "model_name": "ToggleButtonsStyleModel",
          "model_module_version": "1.5.0",
          "state": {
            "_model_module": "@jupyter-widgets/controls",
            "_model_module_version": "1.5.0",
            "_model_name": "ToggleButtonsStyleModel",
            "_view_count": null,
            "_view_module": "@jupyter-widgets/base",
            "_view_module_version": "1.2.0",
            "_view_name": "StyleView",
            "button_width": "",
            "description_width": "",
            "font_weight": ""
          }
        },
        "20a830657689489fa17830b3d1d72da1": {
          "model_module": "@jupyter-widgets/base",
          "model_name": "LayoutModel",
          "model_module_version": "1.2.0",
          "state": {
            "_model_module": "@jupyter-widgets/base",
            "_model_module_version": "1.2.0",
            "_model_name": "LayoutModel",
            "_view_count": null,
            "_view_module": "@jupyter-widgets/base",
            "_view_module_version": "1.2.0",
            "_view_name": "LayoutView",
            "align_content": null,
            "align_items": null,
            "align_self": null,
            "border": null,
            "bottom": null,
            "display": null,
            "flex": null,
            "flex_flow": null,
            "grid_area": null,
            "grid_auto_columns": null,
            "grid_auto_flow": null,
            "grid_auto_rows": null,
            "grid_column": null,
            "grid_gap": null,
            "grid_row": null,
            "grid_template_areas": null,
            "grid_template_columns": null,
            "grid_template_rows": null,
            "height": null,
            "justify_content": null,
            "justify_items": null,
            "left": null,
            "margin": null,
            "max_height": null,
            "max_width": null,
            "min_height": null,
            "min_width": null,
            "object_fit": null,
            "object_position": null,
            "order": null,
            "overflow": null,
            "overflow_x": null,
            "overflow_y": null,
            "padding": null,
            "right": null,
            "top": null,
            "visibility": null,
            "width": null
          }
        }
      }
    }
  },
  "cells": [
    {
      "cell_type": "markdown",
      "metadata": {
        "id": "view-in-github",
        "colab_type": "text"
      },
      "source": [
        "<a href=\"https://colab.research.google.com/github/neel26desai/cmpe255_assignment3/blob/main/CRISP_DM.ipynb\" target=\"_parent\"><img src=\"https://colab.research.google.com/assets/colab-badge.svg\" alt=\"Open In Colab\"/></a>"
      ]
    },
    {
      "cell_type": "markdown",
      "source": [
        "Dataset : https://www.kaggle.com/datasets/rashikrahmanpritom/heart-attack-analysis-prediction-dataset\n"
      ],
      "metadata": {
        "id": "cxwwo3F92tvR"
      }
    },
    {
      "cell_type": "markdown",
      "source": [
        "## Buisness Understanding Goals and Data Mining KPI\n",
        "a.\tWe have a dataset, which contains various features related to health of heart, our task if to develop a model which can predict with accuracy, if a person is at a high risk of heart attack or low.\n",
        "b.\tData Mining Goal and KPI:\n",
        "i.\tBuild a binary classification model having the following performance metrics:\n",
        "1.\tAccuracy : 75%+\n",
        "2.\tRecall : 75%+\n",
        "3.\tPrecision : 75%\n"
      ],
      "metadata": {
        "id": "mAH3kXy_Syxv"
      }
    },
    {
      "cell_type": "code",
      "source": [
        "!pip install pycaret"
      ],
      "metadata": {
        "id": "ux8j19h66IwI"
      },
      "execution_count": null,
      "outputs": []
    },
    {
      "cell_type": "code",
      "source": [
        "#mounting google drive\n",
        "from google.colab import drive\n",
        "drive.mount('/content/drive')"
      ],
      "metadata": {
        "colab": {
          "base_uri": "https://localhost:8080/"
        },
        "id": "3-_CrOeU5U4e",
        "outputId": "ad306868-7043-40f1-d9d4-9502362cf0b4"
      },
      "execution_count": 3,
      "outputs": [
        {
          "output_type": "stream",
          "name": "stdout",
          "text": [
            "Mounted at /content/drive\n"
          ]
        }
      ]
    },
    {
      "cell_type": "code",
      "source": [
        "import pandas as pd\n",
        "import numpy as np\n",
        "import matplotlib.pyplot as plt\n",
        "import seaborn as sns"
      ],
      "metadata": {
        "id": "3uBoA6592tbJ"
      },
      "execution_count": 41,
      "outputs": []
    },
    {
      "cell_type": "markdown",
      "source": [
        "## Data Understanding"
      ],
      "metadata": {
        "id": "nMwpiPG5S_k4"
      }
    },
    {
      "cell_type": "markdown",
      "source": [
        "###Gathering and Describing Data\n",
        "\n",
        "For understanding what each column represents refer to datset link"
      ],
      "metadata": {
        "id": "2wWs0XdHTE3y"
      }
    },
    {
      "cell_type": "code",
      "execution_count": 30,
      "metadata": {
        "id": "4DcO1ZJj2qA8"
      },
      "outputs": [],
      "source": [
        "df = pd.read_csv('/content/drive/MyDrive/heart.csv')"
      ]
    },
    {
      "cell_type": "code",
      "source": [
        "df.head()"
      ],
      "metadata": {
        "colab": {
          "base_uri": "https://localhost:8080/",
          "height": 206
        },
        "id": "TL_1UVEe8G_i",
        "outputId": "624fc105-6590-477f-a4db-37eb28f1eee7"
      },
      "execution_count": 31,
      "outputs": [
        {
          "output_type": "execute_result",
          "data": {
            "text/plain": [
              "   age  sex  cp  trtbps  chol  fbs  restecg  thalachh  exng  oldpeak  slp  \\\n",
              "0   63    1   3     145   233    1        0       150     0      2.3    0   \n",
              "1   37    1   2     130   250    0        1       187     0      3.5    0   \n",
              "2   41    0   1     130   204    0        0       172     0      1.4    2   \n",
              "3   56    1   1     120   236    0        1       178     0      0.8    2   \n",
              "4   57    0   0     120   354    0        1       163     1      0.6    2   \n",
              "\n",
              "   caa  thall  output  \n",
              "0    0      1       1  \n",
              "1    0      2       1  \n",
              "2    0      2       1  \n",
              "3    0      2       1  \n",
              "4    0      2       1  "
            ],
            "text/html": [
              "\n",
              "  <div id=\"df-3089af6b-e3d1-452b-bcc5-5a1b1ca83f72\" class=\"colab-df-container\">\n",
              "    <div>\n",
              "<style scoped>\n",
              "    .dataframe tbody tr th:only-of-type {\n",
              "        vertical-align: middle;\n",
              "    }\n",
              "\n",
              "    .dataframe tbody tr th {\n",
              "        vertical-align: top;\n",
              "    }\n",
              "\n",
              "    .dataframe thead th {\n",
              "        text-align: right;\n",
              "    }\n",
              "</style>\n",
              "<table border=\"1\" class=\"dataframe\">\n",
              "  <thead>\n",
              "    <tr style=\"text-align: right;\">\n",
              "      <th></th>\n",
              "      <th>age</th>\n",
              "      <th>sex</th>\n",
              "      <th>cp</th>\n",
              "      <th>trtbps</th>\n",
              "      <th>chol</th>\n",
              "      <th>fbs</th>\n",
              "      <th>restecg</th>\n",
              "      <th>thalachh</th>\n",
              "      <th>exng</th>\n",
              "      <th>oldpeak</th>\n",
              "      <th>slp</th>\n",
              "      <th>caa</th>\n",
              "      <th>thall</th>\n",
              "      <th>output</th>\n",
              "    </tr>\n",
              "  </thead>\n",
              "  <tbody>\n",
              "    <tr>\n",
              "      <th>0</th>\n",
              "      <td>63</td>\n",
              "      <td>1</td>\n",
              "      <td>3</td>\n",
              "      <td>145</td>\n",
              "      <td>233</td>\n",
              "      <td>1</td>\n",
              "      <td>0</td>\n",
              "      <td>150</td>\n",
              "      <td>0</td>\n",
              "      <td>2.3</td>\n",
              "      <td>0</td>\n",
              "      <td>0</td>\n",
              "      <td>1</td>\n",
              "      <td>1</td>\n",
              "    </tr>\n",
              "    <tr>\n",
              "      <th>1</th>\n",
              "      <td>37</td>\n",
              "      <td>1</td>\n",
              "      <td>2</td>\n",
              "      <td>130</td>\n",
              "      <td>250</td>\n",
              "      <td>0</td>\n",
              "      <td>1</td>\n",
              "      <td>187</td>\n",
              "      <td>0</td>\n",
              "      <td>3.5</td>\n",
              "      <td>0</td>\n",
              "      <td>0</td>\n",
              "      <td>2</td>\n",
              "      <td>1</td>\n",
              "    </tr>\n",
              "    <tr>\n",
              "      <th>2</th>\n",
              "      <td>41</td>\n",
              "      <td>0</td>\n",
              "      <td>1</td>\n",
              "      <td>130</td>\n",
              "      <td>204</td>\n",
              "      <td>0</td>\n",
              "      <td>0</td>\n",
              "      <td>172</td>\n",
              "      <td>0</td>\n",
              "      <td>1.4</td>\n",
              "      <td>2</td>\n",
              "      <td>0</td>\n",
              "      <td>2</td>\n",
              "      <td>1</td>\n",
              "    </tr>\n",
              "    <tr>\n",
              "      <th>3</th>\n",
              "      <td>56</td>\n",
              "      <td>1</td>\n",
              "      <td>1</td>\n",
              "      <td>120</td>\n",
              "      <td>236</td>\n",
              "      <td>0</td>\n",
              "      <td>1</td>\n",
              "      <td>178</td>\n",
              "      <td>0</td>\n",
              "      <td>0.8</td>\n",
              "      <td>2</td>\n",
              "      <td>0</td>\n",
              "      <td>2</td>\n",
              "      <td>1</td>\n",
              "    </tr>\n",
              "    <tr>\n",
              "      <th>4</th>\n",
              "      <td>57</td>\n",
              "      <td>0</td>\n",
              "      <td>0</td>\n",
              "      <td>120</td>\n",
              "      <td>354</td>\n",
              "      <td>0</td>\n",
              "      <td>1</td>\n",
              "      <td>163</td>\n",
              "      <td>1</td>\n",
              "      <td>0.6</td>\n",
              "      <td>2</td>\n",
              "      <td>0</td>\n",
              "      <td>2</td>\n",
              "      <td>1</td>\n",
              "    </tr>\n",
              "  </tbody>\n",
              "</table>\n",
              "</div>\n",
              "    <div class=\"colab-df-buttons\">\n",
              "\n",
              "  <div class=\"colab-df-container\">\n",
              "    <button class=\"colab-df-convert\" onclick=\"convertToInteractive('df-3089af6b-e3d1-452b-bcc5-5a1b1ca83f72')\"\n",
              "            title=\"Convert this dataframe to an interactive table.\"\n",
              "            style=\"display:none;\">\n",
              "\n",
              "  <svg xmlns=\"http://www.w3.org/2000/svg\" height=\"24px\" viewBox=\"0 -960 960 960\">\n",
              "    <path d=\"M120-120v-720h720v720H120Zm60-500h600v-160H180v160Zm220 220h160v-160H400v160Zm0 220h160v-160H400v160ZM180-400h160v-160H180v160Zm440 0h160v-160H620v160ZM180-180h160v-160H180v160Zm440 0h160v-160H620v160Z\"/>\n",
              "  </svg>\n",
              "    </button>\n",
              "\n",
              "  <style>\n",
              "    .colab-df-container {\n",
              "      display:flex;\n",
              "      gap: 12px;\n",
              "    }\n",
              "\n",
              "    .colab-df-convert {\n",
              "      background-color: #E8F0FE;\n",
              "      border: none;\n",
              "      border-radius: 50%;\n",
              "      cursor: pointer;\n",
              "      display: none;\n",
              "      fill: #1967D2;\n",
              "      height: 32px;\n",
              "      padding: 0 0 0 0;\n",
              "      width: 32px;\n",
              "    }\n",
              "\n",
              "    .colab-df-convert:hover {\n",
              "      background-color: #E2EBFA;\n",
              "      box-shadow: 0px 1px 2px rgba(60, 64, 67, 0.3), 0px 1px 3px 1px rgba(60, 64, 67, 0.15);\n",
              "      fill: #174EA6;\n",
              "    }\n",
              "\n",
              "    .colab-df-buttons div {\n",
              "      margin-bottom: 4px;\n",
              "    }\n",
              "\n",
              "    [theme=dark] .colab-df-convert {\n",
              "      background-color: #3B4455;\n",
              "      fill: #D2E3FC;\n",
              "    }\n",
              "\n",
              "    [theme=dark] .colab-df-convert:hover {\n",
              "      background-color: #434B5C;\n",
              "      box-shadow: 0px 1px 3px 1px rgba(0, 0, 0, 0.15);\n",
              "      filter: drop-shadow(0px 1px 2px rgba(0, 0, 0, 0.3));\n",
              "      fill: #FFFFFF;\n",
              "    }\n",
              "  </style>\n",
              "\n",
              "    <script>\n",
              "      const buttonEl =\n",
              "        document.querySelector('#df-3089af6b-e3d1-452b-bcc5-5a1b1ca83f72 button.colab-df-convert');\n",
              "      buttonEl.style.display =\n",
              "        google.colab.kernel.accessAllowed ? 'block' : 'none';\n",
              "\n",
              "      async function convertToInteractive(key) {\n",
              "        const element = document.querySelector('#df-3089af6b-e3d1-452b-bcc5-5a1b1ca83f72');\n",
              "        const dataTable =\n",
              "          await google.colab.kernel.invokeFunction('convertToInteractive',\n",
              "                                                    [key], {});\n",
              "        if (!dataTable) return;\n",
              "\n",
              "        const docLinkHtml = 'Like what you see? Visit the ' +\n",
              "          '<a target=\"_blank\" href=https://colab.research.google.com/notebooks/data_table.ipynb>data table notebook</a>'\n",
              "          + ' to learn more about interactive tables.';\n",
              "        element.innerHTML = '';\n",
              "        dataTable['output_type'] = 'display_data';\n",
              "        await google.colab.output.renderOutput(dataTable, element);\n",
              "        const docLink = document.createElement('div');\n",
              "        docLink.innerHTML = docLinkHtml;\n",
              "        element.appendChild(docLink);\n",
              "      }\n",
              "    </script>\n",
              "  </div>\n",
              "\n",
              "\n",
              "<div id=\"df-ded2ab47-22a1-4829-b5c8-ddac835c2218\">\n",
              "  <button class=\"colab-df-quickchart\" onclick=\"quickchart('df-ded2ab47-22a1-4829-b5c8-ddac835c2218')\"\n",
              "            title=\"Suggest charts.\"\n",
              "            style=\"display:none;\">\n",
              "\n",
              "<svg xmlns=\"http://www.w3.org/2000/svg\" height=\"24px\"viewBox=\"0 0 24 24\"\n",
              "     width=\"24px\">\n",
              "    <g>\n",
              "        <path d=\"M19 3H5c-1.1 0-2 .9-2 2v14c0 1.1.9 2 2 2h14c1.1 0 2-.9 2-2V5c0-1.1-.9-2-2-2zM9 17H7v-7h2v7zm4 0h-2V7h2v10zm4 0h-2v-4h2v4z\"/>\n",
              "    </g>\n",
              "</svg>\n",
              "  </button>\n",
              "\n",
              "<style>\n",
              "  .colab-df-quickchart {\n",
              "      --bg-color: #E8F0FE;\n",
              "      --fill-color: #1967D2;\n",
              "      --hover-bg-color: #E2EBFA;\n",
              "      --hover-fill-color: #174EA6;\n",
              "      --disabled-fill-color: #AAA;\n",
              "      --disabled-bg-color: #DDD;\n",
              "  }\n",
              "\n",
              "  [theme=dark] .colab-df-quickchart {\n",
              "      --bg-color: #3B4455;\n",
              "      --fill-color: #D2E3FC;\n",
              "      --hover-bg-color: #434B5C;\n",
              "      --hover-fill-color: #FFFFFF;\n",
              "      --disabled-bg-color: #3B4455;\n",
              "      --disabled-fill-color: #666;\n",
              "  }\n",
              "\n",
              "  .colab-df-quickchart {\n",
              "    background-color: var(--bg-color);\n",
              "    border: none;\n",
              "    border-radius: 50%;\n",
              "    cursor: pointer;\n",
              "    display: none;\n",
              "    fill: var(--fill-color);\n",
              "    height: 32px;\n",
              "    padding: 0;\n",
              "    width: 32px;\n",
              "  }\n",
              "\n",
              "  .colab-df-quickchart:hover {\n",
              "    background-color: var(--hover-bg-color);\n",
              "    box-shadow: 0 1px 2px rgba(60, 64, 67, 0.3), 0 1px 3px 1px rgba(60, 64, 67, 0.15);\n",
              "    fill: var(--button-hover-fill-color);\n",
              "  }\n",
              "\n",
              "  .colab-df-quickchart-complete:disabled,\n",
              "  .colab-df-quickchart-complete:disabled:hover {\n",
              "    background-color: var(--disabled-bg-color);\n",
              "    fill: var(--disabled-fill-color);\n",
              "    box-shadow: none;\n",
              "  }\n",
              "\n",
              "  .colab-df-spinner {\n",
              "    border: 2px solid var(--fill-color);\n",
              "    border-color: transparent;\n",
              "    border-bottom-color: var(--fill-color);\n",
              "    animation:\n",
              "      spin 1s steps(1) infinite;\n",
              "  }\n",
              "\n",
              "  @keyframes spin {\n",
              "    0% {\n",
              "      border-color: transparent;\n",
              "      border-bottom-color: var(--fill-color);\n",
              "      border-left-color: var(--fill-color);\n",
              "    }\n",
              "    20% {\n",
              "      border-color: transparent;\n",
              "      border-left-color: var(--fill-color);\n",
              "      border-top-color: var(--fill-color);\n",
              "    }\n",
              "    30% {\n",
              "      border-color: transparent;\n",
              "      border-left-color: var(--fill-color);\n",
              "      border-top-color: var(--fill-color);\n",
              "      border-right-color: var(--fill-color);\n",
              "    }\n",
              "    40% {\n",
              "      border-color: transparent;\n",
              "      border-right-color: var(--fill-color);\n",
              "      border-top-color: var(--fill-color);\n",
              "    }\n",
              "    60% {\n",
              "      border-color: transparent;\n",
              "      border-right-color: var(--fill-color);\n",
              "    }\n",
              "    80% {\n",
              "      border-color: transparent;\n",
              "      border-right-color: var(--fill-color);\n",
              "      border-bottom-color: var(--fill-color);\n",
              "    }\n",
              "    90% {\n",
              "      border-color: transparent;\n",
              "      border-bottom-color: var(--fill-color);\n",
              "    }\n",
              "  }\n",
              "</style>\n",
              "\n",
              "  <script>\n",
              "    async function quickchart(key) {\n",
              "      const quickchartButtonEl =\n",
              "        document.querySelector('#' + key + ' button');\n",
              "      quickchartButtonEl.disabled = true;  // To prevent multiple clicks.\n",
              "      quickchartButtonEl.classList.add('colab-df-spinner');\n",
              "      try {\n",
              "        const charts = await google.colab.kernel.invokeFunction(\n",
              "            'suggestCharts', [key], {});\n",
              "      } catch (error) {\n",
              "        console.error('Error during call to suggestCharts:', error);\n",
              "      }\n",
              "      quickchartButtonEl.classList.remove('colab-df-spinner');\n",
              "      quickchartButtonEl.classList.add('colab-df-quickchart-complete');\n",
              "    }\n",
              "    (() => {\n",
              "      let quickchartButtonEl =\n",
              "        document.querySelector('#df-ded2ab47-22a1-4829-b5c8-ddac835c2218 button');\n",
              "      quickchartButtonEl.style.display =\n",
              "        google.colab.kernel.accessAllowed ? 'block' : 'none';\n",
              "    })();\n",
              "  </script>\n",
              "</div>\n",
              "    </div>\n",
              "  </div>\n"
            ]
          },
          "metadata": {},
          "execution_count": 31
        }
      ]
    },
    {
      "cell_type": "code",
      "source": [
        "df.shape"
      ],
      "metadata": {
        "colab": {
          "base_uri": "https://localhost:8080/"
        },
        "id": "5ODS75tZ8LcG",
        "outputId": "7be6849e-e98e-4672-d89d-ba18b3ca6166"
      },
      "execution_count": 32,
      "outputs": [
        {
          "output_type": "execute_result",
          "data": {
            "text/plain": [
              "(303, 14)"
            ]
          },
          "metadata": {},
          "execution_count": 32
        }
      ]
    },
    {
      "cell_type": "code",
      "source": [
        "df.info()"
      ],
      "metadata": {
        "colab": {
          "base_uri": "https://localhost:8080/"
        },
        "id": "C0-89cOlTM-p",
        "outputId": "1b7ac03d-29f0-45fe-c95f-8a24f30c2907"
      },
      "execution_count": 34,
      "outputs": [
        {
          "output_type": "stream",
          "name": "stdout",
          "text": [
            "<class 'pandas.core.frame.DataFrame'>\n",
            "RangeIndex: 303 entries, 0 to 302\n",
            "Data columns (total 14 columns):\n",
            " #   Column    Non-Null Count  Dtype  \n",
            "---  ------    --------------  -----  \n",
            " 0   age       303 non-null    int64  \n",
            " 1   sex       303 non-null    int64  \n",
            " 2   cp        303 non-null    int64  \n",
            " 3   trtbps    303 non-null    int64  \n",
            " 4   chol      303 non-null    int64  \n",
            " 5   fbs       303 non-null    int64  \n",
            " 6   restecg   303 non-null    int64  \n",
            " 7   thalachh  303 non-null    int64  \n",
            " 8   exng      303 non-null    int64  \n",
            " 9   oldpeak   303 non-null    float64\n",
            " 10  slp       303 non-null    int64  \n",
            " 11  caa       303 non-null    int64  \n",
            " 12  thall     303 non-null    int64  \n",
            " 13  output    303 non-null    int64  \n",
            "dtypes: float64(1), int64(13)\n",
            "memory usage: 33.3 KB\n"
          ]
        }
      ]
    },
    {
      "cell_type": "code",
      "source": [
        "df.describe()#get summary statitics"
      ],
      "metadata": {
        "colab": {
          "base_uri": "https://localhost:8080/",
          "height": 320
        },
        "id": "nJkuUdKhRs7P",
        "outputId": "abf2e5c0-61c9-4aea-f3ef-18d95cb381f1"
      },
      "execution_count": 33,
      "outputs": [
        {
          "output_type": "execute_result",
          "data": {
            "text/plain": [
              "              age         sex          cp      trtbps        chol         fbs  \\\n",
              "count  303.000000  303.000000  303.000000  303.000000  303.000000  303.000000   \n",
              "mean    54.366337    0.683168    0.966997  131.623762  246.264026    0.148515   \n",
              "std      9.082101    0.466011    1.032052   17.538143   51.830751    0.356198   \n",
              "min     29.000000    0.000000    0.000000   94.000000  126.000000    0.000000   \n",
              "25%     47.500000    0.000000    0.000000  120.000000  211.000000    0.000000   \n",
              "50%     55.000000    1.000000    1.000000  130.000000  240.000000    0.000000   \n",
              "75%     61.000000    1.000000    2.000000  140.000000  274.500000    0.000000   \n",
              "max     77.000000    1.000000    3.000000  200.000000  564.000000    1.000000   \n",
              "\n",
              "          restecg    thalachh        exng     oldpeak         slp         caa  \\\n",
              "count  303.000000  303.000000  303.000000  303.000000  303.000000  303.000000   \n",
              "mean     0.528053  149.646865    0.326733    1.039604    1.399340    0.729373   \n",
              "std      0.525860   22.905161    0.469794    1.161075    0.616226    1.022606   \n",
              "min      0.000000   71.000000    0.000000    0.000000    0.000000    0.000000   \n",
              "25%      0.000000  133.500000    0.000000    0.000000    1.000000    0.000000   \n",
              "50%      1.000000  153.000000    0.000000    0.800000    1.000000    0.000000   \n",
              "75%      1.000000  166.000000    1.000000    1.600000    2.000000    1.000000   \n",
              "max      2.000000  202.000000    1.000000    6.200000    2.000000    4.000000   \n",
              "\n",
              "            thall      output  \n",
              "count  303.000000  303.000000  \n",
              "mean     2.313531    0.544554  \n",
              "std      0.612277    0.498835  \n",
              "min      0.000000    0.000000  \n",
              "25%      2.000000    0.000000  \n",
              "50%      2.000000    1.000000  \n",
              "75%      3.000000    1.000000  \n",
              "max      3.000000    1.000000  "
            ],
            "text/html": [
              "\n",
              "  <div id=\"df-944cad9a-462b-4a52-bad2-b35418b8757e\" class=\"colab-df-container\">\n",
              "    <div>\n",
              "<style scoped>\n",
              "    .dataframe tbody tr th:only-of-type {\n",
              "        vertical-align: middle;\n",
              "    }\n",
              "\n",
              "    .dataframe tbody tr th {\n",
              "        vertical-align: top;\n",
              "    }\n",
              "\n",
              "    .dataframe thead th {\n",
              "        text-align: right;\n",
              "    }\n",
              "</style>\n",
              "<table border=\"1\" class=\"dataframe\">\n",
              "  <thead>\n",
              "    <tr style=\"text-align: right;\">\n",
              "      <th></th>\n",
              "      <th>age</th>\n",
              "      <th>sex</th>\n",
              "      <th>cp</th>\n",
              "      <th>trtbps</th>\n",
              "      <th>chol</th>\n",
              "      <th>fbs</th>\n",
              "      <th>restecg</th>\n",
              "      <th>thalachh</th>\n",
              "      <th>exng</th>\n",
              "      <th>oldpeak</th>\n",
              "      <th>slp</th>\n",
              "      <th>caa</th>\n",
              "      <th>thall</th>\n",
              "      <th>output</th>\n",
              "    </tr>\n",
              "  </thead>\n",
              "  <tbody>\n",
              "    <tr>\n",
              "      <th>count</th>\n",
              "      <td>303.000000</td>\n",
              "      <td>303.000000</td>\n",
              "      <td>303.000000</td>\n",
              "      <td>303.000000</td>\n",
              "      <td>303.000000</td>\n",
              "      <td>303.000000</td>\n",
              "      <td>303.000000</td>\n",
              "      <td>303.000000</td>\n",
              "      <td>303.000000</td>\n",
              "      <td>303.000000</td>\n",
              "      <td>303.000000</td>\n",
              "      <td>303.000000</td>\n",
              "      <td>303.000000</td>\n",
              "      <td>303.000000</td>\n",
              "    </tr>\n",
              "    <tr>\n",
              "      <th>mean</th>\n",
              "      <td>54.366337</td>\n",
              "      <td>0.683168</td>\n",
              "      <td>0.966997</td>\n",
              "      <td>131.623762</td>\n",
              "      <td>246.264026</td>\n",
              "      <td>0.148515</td>\n",
              "      <td>0.528053</td>\n",
              "      <td>149.646865</td>\n",
              "      <td>0.326733</td>\n",
              "      <td>1.039604</td>\n",
              "      <td>1.399340</td>\n",
              "      <td>0.729373</td>\n",
              "      <td>2.313531</td>\n",
              "      <td>0.544554</td>\n",
              "    </tr>\n",
              "    <tr>\n",
              "      <th>std</th>\n",
              "      <td>9.082101</td>\n",
              "      <td>0.466011</td>\n",
              "      <td>1.032052</td>\n",
              "      <td>17.538143</td>\n",
              "      <td>51.830751</td>\n",
              "      <td>0.356198</td>\n",
              "      <td>0.525860</td>\n",
              "      <td>22.905161</td>\n",
              "      <td>0.469794</td>\n",
              "      <td>1.161075</td>\n",
              "      <td>0.616226</td>\n",
              "      <td>1.022606</td>\n",
              "      <td>0.612277</td>\n",
              "      <td>0.498835</td>\n",
              "    </tr>\n",
              "    <tr>\n",
              "      <th>min</th>\n",
              "      <td>29.000000</td>\n",
              "      <td>0.000000</td>\n",
              "      <td>0.000000</td>\n",
              "      <td>94.000000</td>\n",
              "      <td>126.000000</td>\n",
              "      <td>0.000000</td>\n",
              "      <td>0.000000</td>\n",
              "      <td>71.000000</td>\n",
              "      <td>0.000000</td>\n",
              "      <td>0.000000</td>\n",
              "      <td>0.000000</td>\n",
              "      <td>0.000000</td>\n",
              "      <td>0.000000</td>\n",
              "      <td>0.000000</td>\n",
              "    </tr>\n",
              "    <tr>\n",
              "      <th>25%</th>\n",
              "      <td>47.500000</td>\n",
              "      <td>0.000000</td>\n",
              "      <td>0.000000</td>\n",
              "      <td>120.000000</td>\n",
              "      <td>211.000000</td>\n",
              "      <td>0.000000</td>\n",
              "      <td>0.000000</td>\n",
              "      <td>133.500000</td>\n",
              "      <td>0.000000</td>\n",
              "      <td>0.000000</td>\n",
              "      <td>1.000000</td>\n",
              "      <td>0.000000</td>\n",
              "      <td>2.000000</td>\n",
              "      <td>0.000000</td>\n",
              "    </tr>\n",
              "    <tr>\n",
              "      <th>50%</th>\n",
              "      <td>55.000000</td>\n",
              "      <td>1.000000</td>\n",
              "      <td>1.000000</td>\n",
              "      <td>130.000000</td>\n",
              "      <td>240.000000</td>\n",
              "      <td>0.000000</td>\n",
              "      <td>1.000000</td>\n",
              "      <td>153.000000</td>\n",
              "      <td>0.000000</td>\n",
              "      <td>0.800000</td>\n",
              "      <td>1.000000</td>\n",
              "      <td>0.000000</td>\n",
              "      <td>2.000000</td>\n",
              "      <td>1.000000</td>\n",
              "    </tr>\n",
              "    <tr>\n",
              "      <th>75%</th>\n",
              "      <td>61.000000</td>\n",
              "      <td>1.000000</td>\n",
              "      <td>2.000000</td>\n",
              "      <td>140.000000</td>\n",
              "      <td>274.500000</td>\n",
              "      <td>0.000000</td>\n",
              "      <td>1.000000</td>\n",
              "      <td>166.000000</td>\n",
              "      <td>1.000000</td>\n",
              "      <td>1.600000</td>\n",
              "      <td>2.000000</td>\n",
              "      <td>1.000000</td>\n",
              "      <td>3.000000</td>\n",
              "      <td>1.000000</td>\n",
              "    </tr>\n",
              "    <tr>\n",
              "      <th>max</th>\n",
              "      <td>77.000000</td>\n",
              "      <td>1.000000</td>\n",
              "      <td>3.000000</td>\n",
              "      <td>200.000000</td>\n",
              "      <td>564.000000</td>\n",
              "      <td>1.000000</td>\n",
              "      <td>2.000000</td>\n",
              "      <td>202.000000</td>\n",
              "      <td>1.000000</td>\n",
              "      <td>6.200000</td>\n",
              "      <td>2.000000</td>\n",
              "      <td>4.000000</td>\n",
              "      <td>3.000000</td>\n",
              "      <td>1.000000</td>\n",
              "    </tr>\n",
              "  </tbody>\n",
              "</table>\n",
              "</div>\n",
              "    <div class=\"colab-df-buttons\">\n",
              "\n",
              "  <div class=\"colab-df-container\">\n",
              "    <button class=\"colab-df-convert\" onclick=\"convertToInteractive('df-944cad9a-462b-4a52-bad2-b35418b8757e')\"\n",
              "            title=\"Convert this dataframe to an interactive table.\"\n",
              "            style=\"display:none;\">\n",
              "\n",
              "  <svg xmlns=\"http://www.w3.org/2000/svg\" height=\"24px\" viewBox=\"0 -960 960 960\">\n",
              "    <path d=\"M120-120v-720h720v720H120Zm60-500h600v-160H180v160Zm220 220h160v-160H400v160Zm0 220h160v-160H400v160ZM180-400h160v-160H180v160Zm440 0h160v-160H620v160ZM180-180h160v-160H180v160Zm440 0h160v-160H620v160Z\"/>\n",
              "  </svg>\n",
              "    </button>\n",
              "\n",
              "  <style>\n",
              "    .colab-df-container {\n",
              "      display:flex;\n",
              "      gap: 12px;\n",
              "    }\n",
              "\n",
              "    .colab-df-convert {\n",
              "      background-color: #E8F0FE;\n",
              "      border: none;\n",
              "      border-radius: 50%;\n",
              "      cursor: pointer;\n",
              "      display: none;\n",
              "      fill: #1967D2;\n",
              "      height: 32px;\n",
              "      padding: 0 0 0 0;\n",
              "      width: 32px;\n",
              "    }\n",
              "\n",
              "    .colab-df-convert:hover {\n",
              "      background-color: #E2EBFA;\n",
              "      box-shadow: 0px 1px 2px rgba(60, 64, 67, 0.3), 0px 1px 3px 1px rgba(60, 64, 67, 0.15);\n",
              "      fill: #174EA6;\n",
              "    }\n",
              "\n",
              "    .colab-df-buttons div {\n",
              "      margin-bottom: 4px;\n",
              "    }\n",
              "\n",
              "    [theme=dark] .colab-df-convert {\n",
              "      background-color: #3B4455;\n",
              "      fill: #D2E3FC;\n",
              "    }\n",
              "\n",
              "    [theme=dark] .colab-df-convert:hover {\n",
              "      background-color: #434B5C;\n",
              "      box-shadow: 0px 1px 3px 1px rgba(0, 0, 0, 0.15);\n",
              "      filter: drop-shadow(0px 1px 2px rgba(0, 0, 0, 0.3));\n",
              "      fill: #FFFFFF;\n",
              "    }\n",
              "  </style>\n",
              "\n",
              "    <script>\n",
              "      const buttonEl =\n",
              "        document.querySelector('#df-944cad9a-462b-4a52-bad2-b35418b8757e button.colab-df-convert');\n",
              "      buttonEl.style.display =\n",
              "        google.colab.kernel.accessAllowed ? 'block' : 'none';\n",
              "\n",
              "      async function convertToInteractive(key) {\n",
              "        const element = document.querySelector('#df-944cad9a-462b-4a52-bad2-b35418b8757e');\n",
              "        const dataTable =\n",
              "          await google.colab.kernel.invokeFunction('convertToInteractive',\n",
              "                                                    [key], {});\n",
              "        if (!dataTable) return;\n",
              "\n",
              "        const docLinkHtml = 'Like what you see? Visit the ' +\n",
              "          '<a target=\"_blank\" href=https://colab.research.google.com/notebooks/data_table.ipynb>data table notebook</a>'\n",
              "          + ' to learn more about interactive tables.';\n",
              "        element.innerHTML = '';\n",
              "        dataTable['output_type'] = 'display_data';\n",
              "        await google.colab.output.renderOutput(dataTable, element);\n",
              "        const docLink = document.createElement('div');\n",
              "        docLink.innerHTML = docLinkHtml;\n",
              "        element.appendChild(docLink);\n",
              "      }\n",
              "    </script>\n",
              "  </div>\n",
              "\n",
              "\n",
              "<div id=\"df-6aad7061-0352-469e-a2ec-b4ac167ad01e\">\n",
              "  <button class=\"colab-df-quickchart\" onclick=\"quickchart('df-6aad7061-0352-469e-a2ec-b4ac167ad01e')\"\n",
              "            title=\"Suggest charts.\"\n",
              "            style=\"display:none;\">\n",
              "\n",
              "<svg xmlns=\"http://www.w3.org/2000/svg\" height=\"24px\"viewBox=\"0 0 24 24\"\n",
              "     width=\"24px\">\n",
              "    <g>\n",
              "        <path d=\"M19 3H5c-1.1 0-2 .9-2 2v14c0 1.1.9 2 2 2h14c1.1 0 2-.9 2-2V5c0-1.1-.9-2-2-2zM9 17H7v-7h2v7zm4 0h-2V7h2v10zm4 0h-2v-4h2v4z\"/>\n",
              "    </g>\n",
              "</svg>\n",
              "  </button>\n",
              "\n",
              "<style>\n",
              "  .colab-df-quickchart {\n",
              "      --bg-color: #E8F0FE;\n",
              "      --fill-color: #1967D2;\n",
              "      --hover-bg-color: #E2EBFA;\n",
              "      --hover-fill-color: #174EA6;\n",
              "      --disabled-fill-color: #AAA;\n",
              "      --disabled-bg-color: #DDD;\n",
              "  }\n",
              "\n",
              "  [theme=dark] .colab-df-quickchart {\n",
              "      --bg-color: #3B4455;\n",
              "      --fill-color: #D2E3FC;\n",
              "      --hover-bg-color: #434B5C;\n",
              "      --hover-fill-color: #FFFFFF;\n",
              "      --disabled-bg-color: #3B4455;\n",
              "      --disabled-fill-color: #666;\n",
              "  }\n",
              "\n",
              "  .colab-df-quickchart {\n",
              "    background-color: var(--bg-color);\n",
              "    border: none;\n",
              "    border-radius: 50%;\n",
              "    cursor: pointer;\n",
              "    display: none;\n",
              "    fill: var(--fill-color);\n",
              "    height: 32px;\n",
              "    padding: 0;\n",
              "    width: 32px;\n",
              "  }\n",
              "\n",
              "  .colab-df-quickchart:hover {\n",
              "    background-color: var(--hover-bg-color);\n",
              "    box-shadow: 0 1px 2px rgba(60, 64, 67, 0.3), 0 1px 3px 1px rgba(60, 64, 67, 0.15);\n",
              "    fill: var(--button-hover-fill-color);\n",
              "  }\n",
              "\n",
              "  .colab-df-quickchart-complete:disabled,\n",
              "  .colab-df-quickchart-complete:disabled:hover {\n",
              "    background-color: var(--disabled-bg-color);\n",
              "    fill: var(--disabled-fill-color);\n",
              "    box-shadow: none;\n",
              "  }\n",
              "\n",
              "  .colab-df-spinner {\n",
              "    border: 2px solid var(--fill-color);\n",
              "    border-color: transparent;\n",
              "    border-bottom-color: var(--fill-color);\n",
              "    animation:\n",
              "      spin 1s steps(1) infinite;\n",
              "  }\n",
              "\n",
              "  @keyframes spin {\n",
              "    0% {\n",
              "      border-color: transparent;\n",
              "      border-bottom-color: var(--fill-color);\n",
              "      border-left-color: var(--fill-color);\n",
              "    }\n",
              "    20% {\n",
              "      border-color: transparent;\n",
              "      border-left-color: var(--fill-color);\n",
              "      border-top-color: var(--fill-color);\n",
              "    }\n",
              "    30% {\n",
              "      border-color: transparent;\n",
              "      border-left-color: var(--fill-color);\n",
              "      border-top-color: var(--fill-color);\n",
              "      border-right-color: var(--fill-color);\n",
              "    }\n",
              "    40% {\n",
              "      border-color: transparent;\n",
              "      border-right-color: var(--fill-color);\n",
              "      border-top-color: var(--fill-color);\n",
              "    }\n",
              "    60% {\n",
              "      border-color: transparent;\n",
              "      border-right-color: var(--fill-color);\n",
              "    }\n",
              "    80% {\n",
              "      border-color: transparent;\n",
              "      border-right-color: var(--fill-color);\n",
              "      border-bottom-color: var(--fill-color);\n",
              "    }\n",
              "    90% {\n",
              "      border-color: transparent;\n",
              "      border-bottom-color: var(--fill-color);\n",
              "    }\n",
              "  }\n",
              "</style>\n",
              "\n",
              "  <script>\n",
              "    async function quickchart(key) {\n",
              "      const quickchartButtonEl =\n",
              "        document.querySelector('#' + key + ' button');\n",
              "      quickchartButtonEl.disabled = true;  // To prevent multiple clicks.\n",
              "      quickchartButtonEl.classList.add('colab-df-spinner');\n",
              "      try {\n",
              "        const charts = await google.colab.kernel.invokeFunction(\n",
              "            'suggestCharts', [key], {});\n",
              "      } catch (error) {\n",
              "        console.error('Error during call to suggestCharts:', error);\n",
              "      }\n",
              "      quickchartButtonEl.classList.remove('colab-df-spinner');\n",
              "      quickchartButtonEl.classList.add('colab-df-quickchart-complete');\n",
              "    }\n",
              "    (() => {\n",
              "      let quickchartButtonEl =\n",
              "        document.querySelector('#df-6aad7061-0352-469e-a2ec-b4ac167ad01e button');\n",
              "      quickchartButtonEl.style.display =\n",
              "        google.colab.kernel.accessAllowed ? 'block' : 'none';\n",
              "    })();\n",
              "  </script>\n",
              "</div>\n",
              "    </div>\n",
              "  </div>\n"
            ]
          },
          "metadata": {},
          "execution_count": 33
        }
      ]
    },
    {
      "cell_type": "markdown",
      "source": [
        "From the above data exploration we know the data type for of each columns, the number of missing values in each columns and the summary statistics for each columns"
      ],
      "metadata": {
        "id": "dtS-_ANyTa0Y"
      }
    },
    {
      "cell_type": "markdown",
      "source": [
        "### Data Quality"
      ],
      "metadata": {
        "id": "CH_VB34xacxc"
      }
    },
    {
      "cell_type": "code",
      "source": [
        "#check fo Na values\n",
        "total_na=  df.isna().sum().sum()\n",
        "print(f'The dataset has {total_na} missing value')\n"
      ],
      "metadata": {
        "colab": {
          "base_uri": "https://localhost:8080/"
        },
        "id": "Z5Q9_xbATaH-",
        "outputId": "7cf70df6-8896-4039-fb51-21c0c2c1eea2"
      },
      "execution_count": 35,
      "outputs": [
        {
          "output_type": "stream",
          "name": "stdout",
          "text": [
            "The dataset has 0 missing value\n"
          ]
        }
      ]
    },
    {
      "cell_type": "code",
      "source": [
        "#for each columns lets see the possible unique value\n",
        "cat_cols =[]\n",
        "for col in df.columns:\n",
        "  #if the column has less than 5 unique values consider it categorical\n",
        "  n = df[col].nunique()\n",
        "  print(col,n)\n",
        "  if n<=5:\n",
        "    cat_cols.append(col)\n"
      ],
      "metadata": {
        "colab": {
          "base_uri": "https://localhost:8080/"
        },
        "id": "vz_eSi9Sd1gO",
        "outputId": "3135fe63-abc9-4583-f46d-e103592b0d57"
      },
      "execution_count": 44,
      "outputs": [
        {
          "output_type": "stream",
          "name": "stdout",
          "text": [
            "age 41\n",
            "sex 2\n",
            "cp 4\n",
            "trtbps 49\n",
            "chol 152\n",
            "fbs 2\n",
            "restecg 3\n",
            "thalachh 91\n",
            "exng 2\n",
            "oldpeak 40\n",
            "slp 3\n",
            "caa 5\n",
            "thall 4\n",
            "output 2\n"
          ]
        }
      ]
    },
    {
      "cell_type": "code",
      "source": [
        "# Set up the matplotlib figure\n",
        "plt.figure(figsize=(20, 15))\n",
        "\n",
        "# List of numerical features\n",
        "numerical_features = ['age', 'trtbps', 'chol', 'thalachh', 'oldpeak']\n",
        "\n",
        "# Plotting histograms for numerical features\n",
        "for i, feature in enumerate(numerical_features, 1):\n",
        "    plt.subplot(3, 3, i)\n",
        "    sns.histplot(df[feature], bins=30, kde=True)\n",
        "    plt.title(f'Distribution of {feature}', fontsize=15)\n",
        "\n",
        "# Adjust layout\n",
        "plt.tight_layout()\n",
        "plt.show()"
      ],
      "metadata": {
        "colab": {
          "base_uri": "https://localhost:8080/",
          "height": 539
        },
        "id": "7JM3geIcfamj",
        "outputId": "cf90c2ac-86a5-45b2-cb59-cb981e6ef37b"
      },
      "execution_count": 50,
      "outputs": [
        {
          "output_type": "display_data",
          "data": {
            "text/plain": [
              "<Figure size 2000x1500 with 5 Axes>"
            ],
            "image/png": "[encoded data removed]"
          },
          "metadata": {}
        }
      ]
    },
    {
      "cell_type": "code",
      "source": [
        "cat_cols"
      ],
      "metadata": {
        "colab": {
          "base_uri": "https://localhost:8080/"
        },
        "id": "NiF58d0Lg64S",
        "outputId": "bf967c7a-fa0c-4555-e512-d91c654c602c"
      },
      "execution_count": 53,
      "outputs": [
        {
          "output_type": "execute_result",
          "data": {
            "text/plain": [
              "['sex', 'cp', 'fbs', 'restecg', 'exng', 'slp', 'caa', 'thall', 'output']"
            ]
          },
          "metadata": {},
          "execution_count": 53
        }
      ]
    },
    {
      "cell_type": "code",
      "source": [
        "for i,col in enumerate(cat_cols,start=1):\n",
        "  print(i,col)\n"
      ],
      "metadata": {
        "colab": {
          "base_uri": "https://localhost:8080/"
        },
        "id": "vLC_SqTBhXad",
        "outputId": "ab3348b4-8b5d-4a05-90d9-b48fc116b481"
      },
      "execution_count": 60,
      "outputs": [
        {
          "output_type": "stream",
          "name": "stdout",
          "text": [
            "1 sex\n",
            "2 cp\n",
            "3 fbs\n",
            "4 restecg\n",
            "5 exng\n",
            "6 slp\n",
            "7 caa\n",
            "8 thall\n",
            "9 output\n"
          ]
        }
      ]
    },
    {
      "cell_type": "code",
      "source": [
        "#let su check for biases, first we check for bias in the sex column and then we can check for bias in target columns\n",
        "#let us checks for distribution of all features\n",
        "plt.figure(figsize=(20, 15))\n",
        "for i,col in enumerate(cat_cols,start=1):\n",
        "  temp = df[col].value_counts()\n",
        "  temp.plot(kind='bar')\n",
        "  plt.ylabel('Count')\n",
        "  plt.subplot(3, 3, i)\n",
        "  plt.title(f'Distribution of {col}')\n",
        "  plt.xticks(rotation=90)\n",
        "plt.show()"
      ],
      "metadata": {
        "colab": {
          "base_uri": "https://localhost:8080/",
          "height": 781
        },
        "id": "MdnpS2WrbO-o",
        "outputId": "d4ac7dd4-2109-425e-ddb9-4b3679c0130e"
      },
      "execution_count": 66,
      "outputs": [
        {
          "output_type": "display_data",
          "data": {
            "text/plain": [
              "<Figure size 2000x1500 with 9 Axes>"
            ],
            "image/png": "[encoded data removed]"
          },
          "metadata": {}
        }
      ]
    },
    {
      "cell_type": "code",
      "source": [
        "#checkin the distribution of output to make sure we dont have any class bias\n",
        "plt.figure(figsize=(20, 15))\n",
        "temp = df['output'].value_counts()\n",
        "temp.plot(kind='bar')\n",
        "plt.ylabel('Count')\n",
        "plt.title(f'Distribution of Output')\n",
        "plt.xticks(rotation=90)\n",
        "plt.show()"
      ],
      "metadata": {
        "colab": {
          "base_uri": "https://localhost:8080/",
          "height": 777
        },
        "id": "wKxYHSUidwrL",
        "outputId": "6aeee1f2-3269-4976-e1d3-8e91b2ebe6dc"
      },
      "execution_count": 67,
      "outputs": [
        {
          "output_type": "display_data",
          "data": {
            "text/plain": [
              "<Figure size 2000x1500 with 1 Axes>"
            ],
            "image/png": "[encoded data removed]"
          },
          "metadata": {}
        }
      ]
    },
    {
      "cell_type": "markdown",
      "source": [
        "Based on the above distribution we can tell that we dont have a major class bias for our target"
      ],
      "metadata": {
        "id": "PStQ-5kuvWvf"
      }
    },
    {
      "cell_type": "code",
      "source": [
        "#before we move forward lets check to correlation between different columns\n",
        "sns.heatmap(df.corr())"
      ],
      "metadata": {
        "colab": {
          "base_uri": "https://localhost:8080/",
          "height": 545
        },
        "id": "YQD4ovyXvV6U",
        "outputId": "14fe9240-2788-4104-a112-8fb7e0258945"
      },
      "execution_count": 70,
      "outputs": [
        {
          "output_type": "execute_result",
          "data": {
            "text/plain": [
              "<Axes: >"
            ]
          },
          "metadata": {},
          "execution_count": 70
        },
        {
          "output_type": "display_data",
          "data": {
            "text/plain": [
              "<Figure size 800x550 with 2 Axes>"
            ],
            "image/png": "[encoded data removed]"
          },
          "metadata": {}
        }
      ]
    },
    {
      "cell_type": "markdown",
      "source": [
        "Let us see how each column is related with  target"
      ],
      "metadata": {
        "id": "89h8OfXuwygu"
      }
    },
    {
      "cell_type": "code",
      "source": [
        "# Set up the matplotlib figure\n",
        "plt.figure(figsize=(20, 15))\n",
        "\n",
        "# List of columns excluding the 'output' column\n",
        "columns = df.columns.drop('output')\n",
        "\n",
        "# Loop through each column and plot its relationship with the 'output' column\n",
        "for i, column in enumerate(columns, 1):\n",
        "    plt.subplot(4, 4, i)\n",
        "\n",
        "    # If the column is 'sex' or 'cp' or 'fbs' or 'restecg' or 'exng' or 'slp' or 'caa' or 'thall',\n",
        "    # we consider it as a categorical column and use bar plot\n",
        "    if column in ['sex', 'cp', 'fbs', 'restecg', 'exng', 'slp', 'caa', 'thall']:\n",
        "        sns.countplot(data=df, x=column, hue='output')\n",
        "    else:\n",
        "        # For numerical columns, we use boxplots\n",
        "        sns.boxplot(data=df, x='output', y=column)\n",
        "\n",
        "    plt.title(f'Relation of {column} with output', fontsize=12)\n",
        "\n",
        "# Adjust layout\n",
        "plt.tight_layout()\n",
        "plt.show()\n"
      ],
      "metadata": {
        "colab": {
          "base_uri": "https://localhost:8080/",
          "height": 1000
        },
        "id": "nkR-TRe4wyOw",
        "outputId": "9637f29a-afa2-4117-aae9-c362d7aee9c6"
      },
      "execution_count": 71,
      "outputs": [
        {
          "output_type": "display_data",
          "data": {
            "text/plain": [
              "<Figure size 2000x1500 with 13 Axes>"
            ],
            "image/png": "[encoded data removed]"
          },
          "metadata": {}
        }
      ]
    },
    {
      "cell_type": "markdown",
      "source": [
        "Insights from the EDA:\n",
        "Absolutely, let's summarize the insights based on the previous explorations and the visualizations that were generated:\n",
        "\n",
        "Univariate Analysis:\n",
        "Age (age): The age distribution seemed somewhat normal with a slight skew to the right, indicating that there were more younger individuals in the dataset than older ones.\n",
        "Resting Blood Pressure (trtbps): The distribution of resting blood pressure appeared right-skewed, with most individuals having a blood pressure in the range of 120-140 mm Hg.\n",
        "Cholesterol Level (chol): The cholesterol level distribution was also right-skewed, with most individuals having levels between 200 and 300 mg/dl.\n",
        "Maximum Heart Rate Achieved (thalachh): The distribution of the maximum heart rate achieved was somewhat left-skewed, indicating that most individuals in the dataset have a higher maximum heart rate.\n",
        "ST Depression Induced by Exercise Relative to Rest (oldpeak): This feature had a right-skewed distribution, with most values clustered near zero.\n",
        "Bivariate Analysis (based on plans, but not yet visualized):\n",
        "Numerical vs. Output: Boxplots can be used to observe the distribution of numerical values across different categories of the output. This can help in understanding if certain numerical ranges are more prevalent in one class than the other.\n",
        "Categorical vs. Output: Bar plots can provide insights into how different categories in a categorical feature relate to the output. For instance, if we had visualized the sex column against the output, we could determine if one gender had a higher likelihood of heart disease than the other.\n",
        "Multivariate Analysis (based on plans, but not yet visualized):\n",
        "Pair plots and correlation heatmaps can be used to analyze the relationships between multiple variables at once, providing a holistic view of how features interrelate and how they collectively impact the target variable.\n",
        "From the Dataset Structure:\n",
        "There were no missing values in the dataset.\n",
        "The target variable (output) distribution was:\n",
        "Class 1: ~54.46% (Indicating presence of heart disease)\n",
        "Class 0: ~45.54% (Indicating absence of heart disease)\n",
        "This showed a slight imbalance in the classes, but not severe.\n",
        "These were the insights we were able to glean from the dataset.\n",
        "\n",
        "\n",
        "\n",
        "\n"
      ],
      "metadata": {
        "id": "pf5A1Uw5xgci"
      }
    },
    {
      "cell_type": "markdown",
      "source": [
        "## Data Preparation\n",
        "\n",
        "Lets start by preparing the data before starting with modelling.\n",
        "1. Cause we dont have alot of missing data we can drop the missing data\n",
        "2. We normalize all the continous values"
      ],
      "metadata": {
        "id": "vzfPU8BYzIkJ"
      }
    },
    {
      "cell_type": "code",
      "source": [
        "df=df.dropna()"
      ],
      "metadata": {
        "id": "hBkDWHe9zH_g"
      },
      "execution_count": 72,
      "outputs": []
    },
    {
      "cell_type": "markdown",
      "source": [
        "As we are going to use an automl library it is going to take care of all the preprocessing/ data preparation required"
      ],
      "metadata": {
        "id": "O_QKgI9B02RT"
      }
    },
    {
      "cell_type": "code",
      "source": [
        "from pycaret.classification import ClassificationExperiment\n",
        "exp = ClassificationExperiment()"
      ],
      "metadata": {
        "id": "OAfX6FsDA9Pv"
      },
      "execution_count": 14,
      "outputs": []
    },
    {
      "cell_type": "code",
      "source": [
        "\n",
        "# init setup on exp, our target column is diagnosis\n",
        "exp.setup(df, target = 'output', session_id = 123)\n"
      ],
      "metadata": {
        "colab": {
          "base_uri": "https://localhost:8080/",
          "height": 663
        },
        "id": "a07mZrsNBQiM",
        "outputId": "d7f55894-d857-4bbb-bf01-eaa844a4d10e"
      },
      "execution_count": 15,
      "outputs": [
        {
          "output_type": "display_data",
          "data": {
            "text/plain": [
              "<pandas.io.formats.style.Styler at 0x7da55e468a60>"
            ],
            "text/html": [
              "<style type=\"text/css\">\n",
              "#T_8c3c8_row8_col1 {\n",
              "  background-color: lightgreen;\n",
              "}\n",
              "</style>\n",
              "<table id=\"T_8c3c8\" class=\"dataframe\">\n",
              "  <thead>\n",
              "    <tr>\n",
              "      <th class=\"blank level0\" >&nbsp;</th>\n",
              "      <th id=\"T_8c3c8_level0_col0\" class=\"col_heading level0 col0\" >Description</th>\n",
              "      <th id=\"T_8c3c8_level0_col1\" class=\"col_heading level0 col1\" >Value</th>\n",
              "    </tr>\n",
              "  </thead>\n",
              "  <tbody>\n",
              "    <tr>\n",
              "      <th id=\"T_8c3c8_level0_row0\" class=\"row_heading level0 row0\" >0</th>\n",
              "      <td id=\"T_8c3c8_row0_col0\" class=\"data row0 col0\" >Session id</td>\n",
              "      <td id=\"T_8c3c8_row0_col1\" class=\"data row0 col1\" >123</td>\n",
              "    </tr>\n",
              "    <tr>\n",
              "      <th id=\"T_8c3c8_level0_row1\" class=\"row_heading level0 row1\" >1</th>\n",
              "      <td id=\"T_8c3c8_row1_col0\" class=\"data row1 col0\" >Target</td>\n",
              "      <td id=\"T_8c3c8_row1_col1\" class=\"data row1 col1\" >output</td>\n",
              "    </tr>\n",
              "    <tr>\n",
              "      <th id=\"T_8c3c8_level0_row2\" class=\"row_heading level0 row2\" >2</th>\n",
              "      <td id=\"T_8c3c8_row2_col0\" class=\"data row2 col0\" >Target type</td>\n",
              "      <td id=\"T_8c3c8_row2_col1\" class=\"data row2 col1\" >Binary</td>\n",
              "    </tr>\n",
              "    <tr>\n",
              "      <th id=\"T_8c3c8_level0_row3\" class=\"row_heading level0 row3\" >3</th>\n",
              "      <td id=\"T_8c3c8_row3_col0\" class=\"data row3 col0\" >Original data shape</td>\n",
              "      <td id=\"T_8c3c8_row3_col1\" class=\"data row3 col1\" >(303, 14)</td>\n",
              "    </tr>\n",
              "    <tr>\n",
              "      <th id=\"T_8c3c8_level0_row4\" class=\"row_heading level0 row4\" >4</th>\n",
              "      <td id=\"T_8c3c8_row4_col0\" class=\"data row4 col0\" >Transformed data shape</td>\n",
              "      <td id=\"T_8c3c8_row4_col1\" class=\"data row4 col1\" >(303, 14)</td>\n",
              "    </tr>\n",
              "    <tr>\n",
              "      <th id=\"T_8c3c8_level0_row5\" class=\"row_heading level0 row5\" >5</th>\n",
              "      <td id=\"T_8c3c8_row5_col0\" class=\"data row5 col0\" >Transformed train set shape</td>\n",
              "      <td id=\"T_8c3c8_row5_col1\" class=\"data row5 col1\" >(212, 14)</td>\n",
              "    </tr>\n",
              "    <tr>\n",
              "      <th id=\"T_8c3c8_level0_row6\" class=\"row_heading level0 row6\" >6</th>\n",
              "      <td id=\"T_8c3c8_row6_col0\" class=\"data row6 col0\" >Transformed test set shape</td>\n",
              "      <td id=\"T_8c3c8_row6_col1\" class=\"data row6 col1\" >(91, 14)</td>\n",
              "    </tr>\n",
              "    <tr>\n",
              "      <th id=\"T_8c3c8_level0_row7\" class=\"row_heading level0 row7\" >7</th>\n",
              "      <td id=\"T_8c3c8_row7_col0\" class=\"data row7 col0\" >Numeric features</td>\n",
              "      <td id=\"T_8c3c8_row7_col1\" class=\"data row7 col1\" >13</td>\n",
              "    </tr>\n",
              "    <tr>\n",
              "      <th id=\"T_8c3c8_level0_row8\" class=\"row_heading level0 row8\" >8</th>\n",
              "      <td id=\"T_8c3c8_row8_col0\" class=\"data row8 col0\" >Preprocess</td>\n",
              "      <td id=\"T_8c3c8_row8_col1\" class=\"data row8 col1\" >True</td>\n",
              "    </tr>\n",
              "    <tr>\n",
              "      <th id=\"T_8c3c8_level0_row9\" class=\"row_heading level0 row9\" >9</th>\n",
              "      <td id=\"T_8c3c8_row9_col0\" class=\"data row9 col0\" >Imputation type</td>\n",
              "      <td id=\"T_8c3c8_row9_col1\" class=\"data row9 col1\" >simple</td>\n",
              "    </tr>\n",
              "    <tr>\n",
              "      <th id=\"T_8c3c8_level0_row10\" class=\"row_heading level0 row10\" >10</th>\n",
              "      <td id=\"T_8c3c8_row10_col0\" class=\"data row10 col0\" >Numeric imputation</td>\n",
              "      <td id=\"T_8c3c8_row10_col1\" class=\"data row10 col1\" >mean</td>\n",
              "    </tr>\n",
              "    <tr>\n",
              "      <th id=\"T_8c3c8_level0_row11\" class=\"row_heading level0 row11\" >11</th>\n",
              "      <td id=\"T_8c3c8_row11_col0\" class=\"data row11 col0\" >Categorical imputation</td>\n",
              "      <td id=\"T_8c3c8_row11_col1\" class=\"data row11 col1\" >mode</td>\n",
              "    </tr>\n",
              "    <tr>\n",
              "      <th id=\"T_8c3c8_level0_row12\" class=\"row_heading level0 row12\" >12</th>\n",
              "      <td id=\"T_8c3c8_row12_col0\" class=\"data row12 col0\" >Fold Generator</td>\n",
              "      <td id=\"T_8c3c8_row12_col1\" class=\"data row12 col1\" >StratifiedKFold</td>\n",
              "    </tr>\n",
              "    <tr>\n",
              "      <th id=\"T_8c3c8_level0_row13\" class=\"row_heading level0 row13\" >13</th>\n",
              "      <td id=\"T_8c3c8_row13_col0\" class=\"data row13 col0\" >Fold Number</td>\n",
              "      <td id=\"T_8c3c8_row13_col1\" class=\"data row13 col1\" >10</td>\n",
              "    </tr>\n",
              "    <tr>\n",
              "      <th id=\"T_8c3c8_level0_row14\" class=\"row_heading level0 row14\" >14</th>\n",
              "      <td id=\"T_8c3c8_row14_col0\" class=\"data row14 col0\" >CPU Jobs</td>\n",
              "      <td id=\"T_8c3c8_row14_col1\" class=\"data row14 col1\" >-1</td>\n",
              "    </tr>\n",
              "    <tr>\n",
              "      <th id=\"T_8c3c8_level0_row15\" class=\"row_heading level0 row15\" >15</th>\n",
              "      <td id=\"T_8c3c8_row15_col0\" class=\"data row15 col0\" >Use GPU</td>\n",
              "      <td id=\"T_8c3c8_row15_col1\" class=\"data row15 col1\" >False</td>\n",
              "    </tr>\n",
              "    <tr>\n",
              "      <th id=\"T_8c3c8_level0_row16\" class=\"row_heading level0 row16\" >16</th>\n",
              "      <td id=\"T_8c3c8_row16_col0\" class=\"data row16 col0\" >Log Experiment</td>\n",
              "      <td id=\"T_8c3c8_row16_col1\" class=\"data row16 col1\" >False</td>\n",
              "    </tr>\n",
              "    <tr>\n",
              "      <th id=\"T_8c3c8_level0_row17\" class=\"row_heading level0 row17\" >17</th>\n",
              "      <td id=\"T_8c3c8_row17_col0\" class=\"data row17 col0\" >Experiment Name</td>\n",
              "      <td id=\"T_8c3c8_row17_col1\" class=\"data row17 col1\" >clf-default-name</td>\n",
              "    </tr>\n",
              "    <tr>\n",
              "      <th id=\"T_8c3c8_level0_row18\" class=\"row_heading level0 row18\" >18</th>\n",
              "      <td id=\"T_8c3c8_row18_col0\" class=\"data row18 col0\" >USI</td>\n",
              "      <td id=\"T_8c3c8_row18_col1\" class=\"data row18 col1\" >36b8</td>\n",
              "    </tr>\n",
              "  </tbody>\n",
              "</table>\n"
            ]
          },
          "metadata": {}
        },
        {
          "output_type": "execute_result",
          "data": {
            "text/plain": [
              "<pycaret.classification.oop.ClassificationExperiment at 0x7da587f79810>"
            ]
          },
          "metadata": {},
          "execution_count": 15
        }
      ]
    },
    {
      "cell_type": "code",
      "source": [
        "#checkout the required preprocessing steps\n",
        "exp.get_config('pipeline')"
      ],
      "metadata": {
        "colab": {
          "base_uri": "https://localhost:8080/",
          "height": 460
        },
        "id": "kUyQYKLz1mqz",
        "outputId": "25ae63e2-31d8-4d12-e989-be616dc3d102"
      },
      "execution_count": 75,
      "outputs": [
        {
          "output_type": "execute_result",
          "data": {
            "text/plain": [
              "Pipeline(memory=FastMemory(location=/tmp/joblib),\n",
              "         steps=[('numerical_imputer',\n",
              "                 TransformerWrapper(exclude=None,\n",
              "                                    include=['age', 'sex', 'cp', 'trtbps',\n",
              "                                             'chol', 'fbs', 'restecg',\n",
              "                                             'thalachh', 'exng', 'oldpeak',\n",
              "                                             'slp', 'caa', 'thall'],\n",
              "                                    transformer=SimpleImputer(add_indicator=False,\n",
              "                                                              copy=True,\n",
              "                                                              fill_value=None,\n",
              "                                                              keep_empty_features=False,\n",
              "                                                              missing_values=nan,\n",
              "                                                              strategy='mean',\n",
              "                                                              verbose='deprecated'))),\n",
              "                ('categorical_imputer',\n",
              "                 TransformerWrapper(exclude=None, include=[],\n",
              "                                    transformer=SimpleImputer(add_indicator=False,\n",
              "                                                              copy=True,\n",
              "                                                              fill_value=None,\n",
              "                                                              keep_empty_features=False,\n",
              "                                                              missing_values=nan,\n",
              "                                                              strategy='most_frequent',\n",
              "                                                              verbose='deprecated')))],\n",
              "         verbose=False)"
            ],
            "text/html": [
              "<style>#sk-container-id-2 {color: black;background-color: white;}#sk-container-id-2 pre{padding: 0;}#sk-container-id-2 div.sk-toggleable {background-color: white;}#sk-container-id-2 label.sk-toggleable__label {cursor: pointer;display: block;width: 100%;margin-bottom: 0;padding: 0.3em;box-sizing: border-box;text-align: center;}#sk-container-id-2 label.sk-toggleable__label-arrow:before {content: \"▸\";float: left;margin-right: 0.25em;color: #696969;}#sk-container-id-2 label.sk-toggleable__label-arrow:hover:before {color: black;}#sk-container-id-2 div.sk-estimator:hover label.sk-toggleable__label-arrow:before {color: black;}#sk-container-id-2 div.sk-toggleable__content {max-height: 0;max-width: 0;overflow: hidden;text-align: left;background-color: #f0f8ff;}#sk-container-id-2 div.sk-toggleable__content pre {margin: 0.2em;color: black;border-radius: 0.25em;background-color: #f0f8ff;}#sk-container-id-2 input.sk-toggleable__control:checked~div.sk-toggleable__content {max-height: 200px;max-width: 100%;overflow: auto;}#sk-container-id-2 input.sk-toggleable__control:checked~label.sk-toggleable__label-arrow:before {content: \"▾\";}#sk-container-id-2 div.sk-estimator input.sk-toggleable__control:checked~label.sk-toggleable__label {background-color: #d4ebff;}#sk-container-id-2 div.sk-label input.sk-toggleable__control:checked~label.sk-toggleable__label {background-color: #d4ebff;}#sk-container-id-2 input.sk-hidden--visually {border: 0;clip: rect(1px 1px 1px 1px);clip: rect(1px, 1px, 1px, 1px);height: 1px;margin: -1px;overflow: hidden;padding: 0;position: absolute;width: 1px;}#sk-container-id-2 div.sk-estimator {font-family: monospace;background-color: #f0f8ff;border: 1px dotted black;border-radius: 0.25em;box-sizing: border-box;margin-bottom: 0.5em;}#sk-container-id-2 div.sk-estimator:hover {background-color: #d4ebff;}#sk-container-id-2 div.sk-parallel-item::after {content: \"\";width: 100%;border-bottom: 1px solid gray;flex-grow: 1;}#sk-container-id-2 div.sk-label:hover label.sk-toggleable__label {background-color: #d4ebff;}#sk-container-id-2 div.sk-serial::before {content: \"\";position: absolute;border-left: 1px solid gray;box-sizing: border-box;top: 0;bottom: 0;left: 50%;z-index: 0;}#sk-container-id-2 div.sk-serial {display: flex;flex-direction: column;align-items: center;background-color: white;padding-right: 0.2em;padding-left: 0.2em;position: relative;}#sk-container-id-2 div.sk-item {position: relative;z-index: 1;}#sk-container-id-2 div.sk-parallel {display: flex;align-items: stretch;justify-content: center;background-color: white;position: relative;}#sk-container-id-2 div.sk-item::before, #sk-container-id-2 div.sk-parallel-item::before {content: \"\";position: absolute;border-left: 1px solid gray;box-sizing: border-box;top: 0;bottom: 0;left: 50%;z-index: -1;}#sk-container-id-2 div.sk-parallel-item {display: flex;flex-direction: column;z-index: 1;position: relative;background-color: white;}#sk-container-id-2 div.sk-parallel-item:first-child::after {align-self: flex-end;width: 50%;}#sk-container-id-2 div.sk-parallel-item:last-child::after {align-self: flex-start;width: 50%;}#sk-container-id-2 div.sk-parallel-item:only-child::after {width: 0;}#sk-container-id-2 div.sk-dashed-wrapped {border: 1px dashed gray;margin: 0 0.4em 0.5em 0.4em;box-sizing: border-box;padding-bottom: 0.4em;background-color: white;}#sk-container-id-2 div.sk-label label {font-family: monospace;font-weight: bold;display: inline-block;line-height: 1.2em;}#sk-container-id-2 div.sk-label-container {text-align: center;}#sk-container-id-2 div.sk-container {/* jupyter's `normalize.less` sets `[hidden] { display: none; }` but bootstrap.min.css set `[hidden] { display: none !important; }` so we also need the `!important` here to be able to override the default hidden behavior on the sphinx rendered scikit-learn.org. See: https://github.com/scikit-learn/scikit-learn/issues/21755 */display: inline-block !important;position: relative;}#sk-container-id-2 div.sk-text-repr-fallback {display: none;}</style><div id=\"sk-container-id-2\" class=\"sk-top-container\"><div class=\"sk-text-repr-fallback\"><pre>Pipeline(memory=FastMemory(location=/tmp/joblib),\n",
              "         steps=[(&#x27;numerical_imputer&#x27;,\n",
              "                 TransformerWrapper(exclude=None,\n",
              "                                    include=[&#x27;age&#x27;, &#x27;sex&#x27;, &#x27;cp&#x27;, &#x27;trtbps&#x27;,\n",
              "                                             &#x27;chol&#x27;, &#x27;fbs&#x27;, &#x27;restecg&#x27;,\n",
              "                                             &#x27;thalachh&#x27;, &#x27;exng&#x27;, &#x27;oldpeak&#x27;,\n",
              "                                             &#x27;slp&#x27;, &#x27;caa&#x27;, &#x27;thall&#x27;],\n",
              "                                    transformer=SimpleImputer(add_indicator=False,\n",
              "                                                              copy=True,\n",
              "                                                              fill_value=None,\n",
              "                                                              keep_empty_features=False,\n",
              "                                                              missing_values=nan,\n",
              "                                                              strategy=&#x27;mean&#x27;,\n",
              "                                                              verbose=&#x27;deprecated&#x27;))),\n",
              "                (&#x27;categorical_imputer&#x27;,\n",
              "                 TransformerWrapper(exclude=None, include=[],\n",
              "                                    transformer=SimpleImputer(add_indicator=False,\n",
              "                                                              copy=True,\n",
              "                                                              fill_value=None,\n",
              "                                                              keep_empty_features=False,\n",
              "                                                              missing_values=nan,\n",
              "                                                              strategy=&#x27;most_frequent&#x27;,\n",
              "                                                              verbose=&#x27;deprecated&#x27;)))],\n",
              "         verbose=False)</pre><b>In a Jupyter environment, please rerun this cell to show the HTML representation or trust the notebook. <br />On GitHub, the HTML representation is unable to render, please try loading this page with nbviewer.org.</b></div><div class=\"sk-container\" hidden><div class=\"sk-item sk-dashed-wrapped\"><div class=\"sk-label-container\"><div class=\"sk-label sk-toggleable\"><input class=\"sk-toggleable__control sk-hidden--visually\" id=\"sk-estimator-id-2\" type=\"checkbox\" ><label for=\"sk-estimator-id-2\" class=\"sk-toggleable__label sk-toggleable__label-arrow\">Pipeline</label><div class=\"sk-toggleable__content\"><pre>Pipeline(memory=FastMemory(location=/tmp/joblib),\n",
              "         steps=[(&#x27;numerical_imputer&#x27;,\n",
              "                 TransformerWrapper(exclude=None,\n",
              "                                    include=[&#x27;age&#x27;, &#x27;sex&#x27;, &#x27;cp&#x27;, &#x27;trtbps&#x27;,\n",
              "                                             &#x27;chol&#x27;, &#x27;fbs&#x27;, &#x27;restecg&#x27;,\n",
              "                                             &#x27;thalachh&#x27;, &#x27;exng&#x27;, &#x27;oldpeak&#x27;,\n",
              "                                             &#x27;slp&#x27;, &#x27;caa&#x27;, &#x27;thall&#x27;],\n",
              "                                    transformer=SimpleImputer(add_indicator=False,\n",
              "                                                              copy=True,\n",
              "                                                              fill_value=None,\n",
              "                                                              keep_empty_features=False,\n",
              "                                                              missing_values=nan,\n",
              "                                                              strategy=&#x27;mean&#x27;,\n",
              "                                                              verbose=&#x27;deprecated&#x27;))),\n",
              "                (&#x27;categorical_imputer&#x27;,\n",
              "                 TransformerWrapper(exclude=None, include=[],\n",
              "                                    transformer=SimpleImputer(add_indicator=False,\n",
              "                                                              copy=True,\n",
              "                                                              fill_value=None,\n",
              "                                                              keep_empty_features=False,\n",
              "                                                              missing_values=nan,\n",
              "                                                              strategy=&#x27;most_frequent&#x27;,\n",
              "                                                              verbose=&#x27;deprecated&#x27;)))],\n",
              "         verbose=False)</pre></div></div></div><div class=\"sk-serial\"><div class=\"sk-item sk-dashed-wrapped\"><div class=\"sk-label-container\"><div class=\"sk-label sk-toggleable\"><input class=\"sk-toggleable__control sk-hidden--visually\" id=\"sk-estimator-id-3\" type=\"checkbox\" ><label for=\"sk-estimator-id-3\" class=\"sk-toggleable__label sk-toggleable__label-arrow\">numerical_imputer: TransformerWrapper</label><div class=\"sk-toggleable__content\"><pre>TransformerWrapper(exclude=None,\n",
              "                   include=[&#x27;age&#x27;, &#x27;sex&#x27;, &#x27;cp&#x27;, &#x27;trtbps&#x27;, &#x27;chol&#x27;, &#x27;fbs&#x27;,\n",
              "                            &#x27;restecg&#x27;, &#x27;thalachh&#x27;, &#x27;exng&#x27;, &#x27;oldpeak&#x27;, &#x27;slp&#x27;,\n",
              "                            &#x27;caa&#x27;, &#x27;thall&#x27;],\n",
              "                   transformer=SimpleImputer(add_indicator=False, copy=True,\n",
              "                                             fill_value=None,\n",
              "                                             keep_empty_features=False,\n",
              "                                             missing_values=nan,\n",
              "                                             strategy=&#x27;mean&#x27;,\n",
              "                                             verbose=&#x27;deprecated&#x27;))</pre></div></div></div><div class=\"sk-parallel\"><div class=\"sk-parallel-item\"><div class=\"sk-item\"><div class=\"sk-label-container\"><div class=\"sk-label sk-toggleable\"><input class=\"sk-toggleable__control sk-hidden--visually\" id=\"sk-estimator-id-4\" type=\"checkbox\" ><label for=\"sk-estimator-id-4\" class=\"sk-toggleable__label sk-toggleable__label-arrow\">transformer: SimpleImputer</label><div class=\"sk-toggleable__content\"><pre>SimpleImputer()</pre></div></div></div><div class=\"sk-serial\"><div class=\"sk-item\"><div class=\"sk-estimator sk-toggleable\"><input class=\"sk-toggleable__control sk-hidden--visually\" id=\"sk-estimator-id-5\" type=\"checkbox\" ><label for=\"sk-estimator-id-5\" class=\"sk-toggleable__label sk-toggleable__label-arrow\">SimpleImputer</label><div class=\"sk-toggleable__content\"><pre>SimpleImputer()</pre></div></div></div></div></div></div></div></div><div class=\"sk-item sk-dashed-wrapped\"><div class=\"sk-label-container\"><div class=\"sk-label sk-toggleable\"><input class=\"sk-toggleable__control sk-hidden--visually\" id=\"sk-estimator-id-6\" type=\"checkbox\" ><label for=\"sk-estimator-id-6\" class=\"sk-toggleable__label sk-toggleable__label-arrow\">categorical_imputer: TransformerWrapper</label><div class=\"sk-toggleable__content\"><pre>TransformerWrapper(exclude=None, include=[],\n",
              "                   transformer=SimpleImputer(add_indicator=False, copy=True,\n",
              "                                             fill_value=None,\n",
              "                                             keep_empty_features=False,\n",
              "                                             missing_values=nan,\n",
              "                                             strategy=&#x27;most_frequent&#x27;,\n",
              "                                             verbose=&#x27;deprecated&#x27;))</pre></div></div></div><div class=\"sk-parallel\"><div class=\"sk-parallel-item\"><div class=\"sk-item\"><div class=\"sk-label-container\"><div class=\"sk-label sk-toggleable\"><input class=\"sk-toggleable__control sk-hidden--visually\" id=\"sk-estimator-id-7\" type=\"checkbox\" ><label for=\"sk-estimator-id-7\" class=\"sk-toggleable__label sk-toggleable__label-arrow\">transformer: SimpleImputer</label><div class=\"sk-toggleable__content\"><pre>SimpleImputer(strategy=&#x27;most_frequent&#x27;)</pre></div></div></div><div class=\"sk-serial\"><div class=\"sk-item\"><div class=\"sk-estimator sk-toggleable\"><input class=\"sk-toggleable__control sk-hidden--visually\" id=\"sk-estimator-id-8\" type=\"checkbox\" ><label for=\"sk-estimator-id-8\" class=\"sk-toggleable__label sk-toggleable__label-arrow\">SimpleImputer</label><div class=\"sk-toggleable__content\"><pre>SimpleImputer(strategy=&#x27;most_frequent&#x27;)</pre></div></div></div></div></div></div></div></div></div></div></div></div>"
            ]
          },
          "metadata": {},
          "execution_count": 75
        }
      ]
    },
    {
      "cell_type": "markdown",
      "source": [
        "## Modelling"
      ],
      "metadata": {
        "id": "YGshm74v2hJ-"
      }
    },
    {
      "cell_type": "code",
      "source": [
        "#let compare list of base models that best fit out data\n",
        "base_models = exp.compare_models()"
      ],
      "metadata": {
        "colab": {
          "base_uri": "https://localhost:8080/",
          "height": 520,
          "referenced_widgets": [
            "6d2e6d54ef204806ad8a2274d4d94e89",
            "3736b1c7a20a45619c99130a83645944",
            "7797384f57be44ca8eed42f2d48851a2",
            "bd652683f36b4082b7ae8c0018af3110",
            "1238d0bfaf80462d8f4aa3ff1da809d8",
            "e75927efab624fbb8a2eda30ec48f5f8",
            "a29d68e5b27a420a89944a85b9f44e91",
            "837ca8112b18400faa55865f6fe9ef6c",
            "d8214e6478254e939b39b41644e6ccab",
            "87ef613433cf4eb0af78d67a3cf597b7",
            "4f8c4ff200854fb1af8785f8f8f6b17e"
          ]
        },
        "id": "q-VRXulvBW25",
        "outputId": "ba49b4eb-f287-4645-9d2c-c833a629846f"
      },
      "execution_count": 16,
      "outputs": [
        {
          "output_type": "display_data",
          "data": {
            "text/plain": [
              "<IPython.core.display.HTML object>"
            ],
            "text/html": []
          },
          "metadata": {}
        },
        {
          "output_type": "display_data",
          "data": {
            "text/plain": [
              "<pandas.io.formats.style.Styler at 0x7da55b257fa0>"
            ],
            "text/html": [
              "<style type=\"text/css\">\n",
              "#T_f0df6 th {\n",
              "  text-align: left;\n",
              "}\n",
              "#T_f0df6_row0_col0, #T_f0df6_row0_col3, #T_f0df6_row0_col4, #T_f0df6_row0_col5, #T_f0df6_row0_col7, #T_f0df6_row1_col0, #T_f0df6_row1_col2, #T_f0df6_row1_col3, #T_f0df6_row1_col4, #T_f0df6_row1_col6, #T_f0df6_row2_col0, #T_f0df6_row2_col2, #T_f0df6_row2_col3, #T_f0df6_row2_col4, #T_f0df6_row2_col5, #T_f0df6_row2_col6, #T_f0df6_row2_col7, #T_f0df6_row3_col0, #T_f0df6_row3_col2, #T_f0df6_row3_col3, #T_f0df6_row3_col4, #T_f0df6_row3_col6, #T_f0df6_row4_col0, #T_f0df6_row4_col1, #T_f0df6_row4_col2, #T_f0df6_row4_col3, #T_f0df6_row4_col4, #T_f0df6_row4_col5, #T_f0df6_row4_col6, #T_f0df6_row4_col7, #T_f0df6_row5_col0, #T_f0df6_row5_col1, #T_f0df6_row5_col2, #T_f0df6_row5_col3, #T_f0df6_row5_col4, #T_f0df6_row5_col5, #T_f0df6_row5_col6, #T_f0df6_row5_col7, #T_f0df6_row6_col0, #T_f0df6_row6_col1, #T_f0df6_row6_col2, #T_f0df6_row6_col3, #T_f0df6_row6_col4, #T_f0df6_row6_col5, #T_f0df6_row6_col6, #T_f0df6_row6_col7, #T_f0df6_row7_col0, #T_f0df6_row7_col1, #T_f0df6_row7_col2, #T_f0df6_row7_col3, #T_f0df6_row7_col5, #T_f0df6_row7_col6, #T_f0df6_row7_col7, #T_f0df6_row8_col0, #T_f0df6_row8_col1, #T_f0df6_row8_col2, #T_f0df6_row8_col3, #T_f0df6_row8_col4, #T_f0df6_row8_col5, #T_f0df6_row8_col6, #T_f0df6_row8_col7, #T_f0df6_row9_col0, #T_f0df6_row9_col1, #T_f0df6_row9_col2, #T_f0df6_row9_col3, #T_f0df6_row9_col4, #T_f0df6_row9_col5, #T_f0df6_row9_col6, #T_f0df6_row9_col7, #T_f0df6_row10_col0, #T_f0df6_row10_col1, #T_f0df6_row10_col2, #T_f0df6_row10_col3, #T_f0df6_row10_col4, #T_f0df6_row10_col5, #T_f0df6_row10_col6, #T_f0df6_row10_col7, #T_f0df6_row11_col0, #T_f0df6_row11_col1, #T_f0df6_row11_col2, #T_f0df6_row11_col3, #T_f0df6_row11_col4, #T_f0df6_row11_col5, #T_f0df6_row11_col6, #T_f0df6_row11_col7, #T_f0df6_row12_col0, #T_f0df6_row12_col1, #T_f0df6_row12_col2, #T_f0df6_row12_col3, #T_f0df6_row12_col4, #T_f0df6_row12_col5, #T_f0df6_row12_col6, #T_f0df6_row12_col7, #T_f0df6_row13_col0, #T_f0df6_row13_col1, #T_f0df6_row13_col2, #T_f0df6_row13_col3, #T_f0df6_row13_col4, #T_f0df6_row13_col5, #T_f0df6_row13_col6, #T_f0df6_row13_col7, #T_f0df6_row14_col0, #T_f0df6_row14_col1, #T_f0df6_row14_col2, #T_f0df6_row14_col4, #T_f0df6_row14_col5, #T_f0df6_row14_col6, #T_f0df6_row14_col7 {\n",
              "  text-align: left;\n",
              "}\n",
              "#T_f0df6_row0_col1, #T_f0df6_row0_col2, #T_f0df6_row0_col6, #T_f0df6_row1_col1, #T_f0df6_row1_col5, #T_f0df6_row1_col7, #T_f0df6_row2_col1, #T_f0df6_row3_col1, #T_f0df6_row3_col5, #T_f0df6_row3_col7, #T_f0df6_row7_col4, #T_f0df6_row14_col3 {\n",
              "  text-align: left;\n",
              "  background-color: yellow;\n",
              "}\n",
              "#T_f0df6_row0_col8, #T_f0df6_row2_col8, #T_f0df6_row3_col8, #T_f0df6_row4_col8, #T_f0df6_row5_col8, #T_f0df6_row6_col8, #T_f0df6_row7_col8, #T_f0df6_row8_col8, #T_f0df6_row9_col8, #T_f0df6_row10_col8, #T_f0df6_row11_col8, #T_f0df6_row12_col8, #T_f0df6_row14_col8 {\n",
              "  text-align: left;\n",
              "  background-color: lightgrey;\n",
              "}\n",
              "#T_f0df6_row1_col8, #T_f0df6_row13_col8 {\n",
              "  text-align: left;\n",
              "  background-color: yellow;\n",
              "  background-color: lightgrey;\n",
              "}\n",
              "</style>\n",
              "<table id=\"T_f0df6\" class=\"dataframe\">\n",
              "  <thead>\n",
              "    <tr>\n",
              "      <th class=\"blank level0\" >&nbsp;</th>\n",
              "      <th id=\"T_f0df6_level0_col0\" class=\"col_heading level0 col0\" >Model</th>\n",
              "      <th id=\"T_f0df6_level0_col1\" class=\"col_heading level0 col1\" >Accuracy</th>\n",
              "      <th id=\"T_f0df6_level0_col2\" class=\"col_heading level0 col2\" >AUC</th>\n",
              "      <th id=\"T_f0df6_level0_col3\" class=\"col_heading level0 col3\" >Recall</th>\n",
              "      <th id=\"T_f0df6_level0_col4\" class=\"col_heading level0 col4\" >Prec.</th>\n",
              "      <th id=\"T_f0df6_level0_col5\" class=\"col_heading level0 col5\" >F1</th>\n",
              "      <th id=\"T_f0df6_level0_col6\" class=\"col_heading level0 col6\" >Kappa</th>\n",
              "      <th id=\"T_f0df6_level0_col7\" class=\"col_heading level0 col7\" >MCC</th>\n",
              "      <th id=\"T_f0df6_level0_col8\" class=\"col_heading level0 col8\" >TT (Sec)</th>\n",
              "    </tr>\n",
              "  </thead>\n",
              "  <tbody>\n",
              "    <tr>\n",
              "      <th id=\"T_f0df6_level0_row0\" class=\"row_heading level0 row0\" >nb</th>\n",
              "      <td id=\"T_f0df6_row0_col0\" class=\"data row0 col0\" >Naive Bayes</td>\n",
              "      <td id=\"T_f0df6_row0_col1\" class=\"data row0 col1\" >0.8201</td>\n",
              "      <td id=\"T_f0df6_row0_col2\" class=\"data row0 col2\" >0.9212</td>\n",
              "      <td id=\"T_f0df6_row0_col3\" class=\"data row0 col3\" >0.8576</td>\n",
              "      <td id=\"T_f0df6_row0_col4\" class=\"data row0 col4\" >0.8186</td>\n",
              "      <td id=\"T_f0df6_row0_col5\" class=\"data row0 col5\" >0.8303</td>\n",
              "      <td id=\"T_f0df6_row0_col6\" class=\"data row0 col6\" >0.6358</td>\n",
              "      <td id=\"T_f0df6_row0_col7\" class=\"data row0 col7\" >0.6510</td>\n",
              "      <td id=\"T_f0df6_row0_col8\" class=\"data row0 col8\" >0.0290</td>\n",
              "    </tr>\n",
              "    <tr>\n",
              "      <th id=\"T_f0df6_level0_row1\" class=\"row_heading level0 row1\" >ridge</th>\n",
              "      <td id=\"T_f0df6_row1_col0\" class=\"data row1 col0\" >Ridge Classifier</td>\n",
              "      <td id=\"T_f0df6_row1_col1\" class=\"data row1 col1\" >0.8201</td>\n",
              "      <td id=\"T_f0df6_row1_col2\" class=\"data row1 col2\" >0.0000</td>\n",
              "      <td id=\"T_f0df6_row1_col3\" class=\"data row1 col3\" >0.8841</td>\n",
              "      <td id=\"T_f0df6_row1_col4\" class=\"data row1 col4\" >0.8069</td>\n",
              "      <td id=\"T_f0df6_row1_col5\" class=\"data row1 col5\" >0.8359</td>\n",
              "      <td id=\"T_f0df6_row1_col6\" class=\"data row1 col6\" >0.6346</td>\n",
              "      <td id=\"T_f0df6_row1_col7\" class=\"data row1 col7\" >0.6558</td>\n",
              "      <td id=\"T_f0df6_row1_col8\" class=\"data row1 col8\" >0.0260</td>\n",
              "    </tr>\n",
              "    <tr>\n",
              "      <th id=\"T_f0df6_level0_row2\" class=\"row_heading level0 row2\" >rf</th>\n",
              "      <td id=\"T_f0df6_row2_col0\" class=\"data row2 col0\" >Random Forest Classifier</td>\n",
              "      <td id=\"T_f0df6_row2_col1\" class=\"data row2 col1\" >0.8201</td>\n",
              "      <td id=\"T_f0df6_row2_col2\" class=\"data row2 col2\" >0.8924</td>\n",
              "      <td id=\"T_f0df6_row2_col3\" class=\"data row2 col3\" >0.8583</td>\n",
              "      <td id=\"T_f0df6_row2_col4\" class=\"data row2 col4\" >0.8236</td>\n",
              "      <td id=\"T_f0df6_row2_col5\" class=\"data row2 col5\" >0.8335</td>\n",
              "      <td id=\"T_f0df6_row2_col6\" class=\"data row2 col6\" >0.6349</td>\n",
              "      <td id=\"T_f0df6_row2_col7\" class=\"data row2 col7\" >0.6474</td>\n",
              "      <td id=\"T_f0df6_row2_col8\" class=\"data row2 col8\" >0.2020</td>\n",
              "    </tr>\n",
              "    <tr>\n",
              "      <th id=\"T_f0df6_level0_row3\" class=\"row_heading level0 row3\" >lda</th>\n",
              "      <td id=\"T_f0df6_row3_col0\" class=\"data row3 col0\" >Linear Discriminant Analysis</td>\n",
              "      <td id=\"T_f0df6_row3_col1\" class=\"data row3 col1\" >0.8201</td>\n",
              "      <td id=\"T_f0df6_row3_col2\" class=\"data row3 col2\" >0.9162</td>\n",
              "      <td id=\"T_f0df6_row3_col3\" class=\"data row3 col3\" >0.8841</td>\n",
              "      <td id=\"T_f0df6_row3_col4\" class=\"data row3 col4\" >0.8069</td>\n",
              "      <td id=\"T_f0df6_row3_col5\" class=\"data row3 col5\" >0.8359</td>\n",
              "      <td id=\"T_f0df6_row3_col6\" class=\"data row3 col6\" >0.6346</td>\n",
              "      <td id=\"T_f0df6_row3_col7\" class=\"data row3 col7\" >0.6558</td>\n",
              "      <td id=\"T_f0df6_row3_col8\" class=\"data row3 col8\" >0.0270</td>\n",
              "    </tr>\n",
              "    <tr>\n",
              "      <th id=\"T_f0df6_level0_row4\" class=\"row_heading level0 row4\" >lr</th>\n",
              "      <td id=\"T_f0df6_row4_col0\" class=\"data row4 col0\" >Logistic Regression</td>\n",
              "      <td id=\"T_f0df6_row4_col1\" class=\"data row4 col1\" >0.8154</td>\n",
              "      <td id=\"T_f0df6_row4_col2\" class=\"data row4 col2\" >0.9180</td>\n",
              "      <td id=\"T_f0df6_row4_col3\" class=\"data row4 col3\" >0.8750</td>\n",
              "      <td id=\"T_f0df6_row4_col4\" class=\"data row4 col4\" >0.8061</td>\n",
              "      <td id=\"T_f0df6_row4_col5\" class=\"data row4 col5\" >0.8310</td>\n",
              "      <td id=\"T_f0df6_row4_col6\" class=\"data row4 col6\" >0.6245</td>\n",
              "      <td id=\"T_f0df6_row4_col7\" class=\"data row4 col7\" >0.6463</td>\n",
              "      <td id=\"T_f0df6_row4_col8\" class=\"data row4 col8\" >1.0190</td>\n",
              "    </tr>\n",
              "    <tr>\n",
              "      <th id=\"T_f0df6_level0_row5\" class=\"row_heading level0 row5\" >et</th>\n",
              "      <td id=\"T_f0df6_row5_col0\" class=\"data row5 col0\" >Extra Trees Classifier</td>\n",
              "      <td id=\"T_f0df6_row5_col1\" class=\"data row5 col1\" >0.8108</td>\n",
              "      <td id=\"T_f0df6_row5_col2\" class=\"data row5 col2\" >0.9003</td>\n",
              "      <td id=\"T_f0df6_row5_col3\" class=\"data row5 col3\" >0.8508</td>\n",
              "      <td id=\"T_f0df6_row5_col4\" class=\"data row5 col4\" >0.8150</td>\n",
              "      <td id=\"T_f0df6_row5_col5\" class=\"data row5 col5\" >0.8240</td>\n",
              "      <td id=\"T_f0df6_row5_col6\" class=\"data row5 col6\" >0.6180</td>\n",
              "      <td id=\"T_f0df6_row5_col7\" class=\"data row5 col7\" >0.6342</td>\n",
              "      <td id=\"T_f0df6_row5_col8\" class=\"data row5 col8\" >0.2650</td>\n",
              "    </tr>\n",
              "    <tr>\n",
              "      <th id=\"T_f0df6_level0_row6\" class=\"row_heading level0 row6\" >xgboost</th>\n",
              "      <td id=\"T_f0df6_row6_col0\" class=\"data row6 col0\" >Extreme Gradient Boosting</td>\n",
              "      <td id=\"T_f0df6_row6_col1\" class=\"data row6 col1\" >0.8017</td>\n",
              "      <td id=\"T_f0df6_row6_col2\" class=\"data row6 col2\" >0.8562</td>\n",
              "      <td id=\"T_f0df6_row6_col3\" class=\"data row6 col3\" >0.8417</td>\n",
              "      <td id=\"T_f0df6_row6_col4\" class=\"data row6 col4\" >0.8145</td>\n",
              "      <td id=\"T_f0df6_row6_col5\" class=\"data row6 col5\" >0.8171</td>\n",
              "      <td id=\"T_f0df6_row6_col6\" class=\"data row6 col6\" >0.5972</td>\n",
              "      <td id=\"T_f0df6_row6_col7\" class=\"data row6 col7\" >0.6170</td>\n",
              "      <td id=\"T_f0df6_row6_col8\" class=\"data row6 col8\" >0.1140</td>\n",
              "    </tr>\n",
              "    <tr>\n",
              "      <th id=\"T_f0df6_level0_row7\" class=\"row_heading level0 row7\" >qda</th>\n",
              "      <td id=\"T_f0df6_row7_col0\" class=\"data row7 col0\" >Quadratic Discriminant Analysis</td>\n",
              "      <td id=\"T_f0df6_row7_col1\" class=\"data row7 col1\" >0.8013</td>\n",
              "      <td id=\"T_f0df6_row7_col2\" class=\"data row7 col2\" >0.9013</td>\n",
              "      <td id=\"T_f0df6_row7_col3\" class=\"data row7 col3\" >0.8152</td>\n",
              "      <td id=\"T_f0df6_row7_col4\" class=\"data row7 col4\" >0.8273</td>\n",
              "      <td id=\"T_f0df6_row7_col5\" class=\"data row7 col5\" >0.8112</td>\n",
              "      <td id=\"T_f0df6_row7_col6\" class=\"data row7 col6\" >0.5986</td>\n",
              "      <td id=\"T_f0df6_row7_col7\" class=\"data row7 col7\" >0.6111</td>\n",
              "      <td id=\"T_f0df6_row7_col8\" class=\"data row7 col8\" >0.0300</td>\n",
              "    </tr>\n",
              "    <tr>\n",
              "      <th id=\"T_f0df6_level0_row8\" class=\"row_heading level0 row8\" >gbc</th>\n",
              "      <td id=\"T_f0df6_row8_col0\" class=\"data row8 col0\" >Gradient Boosting Classifier</td>\n",
              "      <td id=\"T_f0df6_row8_col1\" class=\"data row8 col1\" >0.7972</td>\n",
              "      <td id=\"T_f0df6_row8_col2\" class=\"data row8 col2\" >0.8802</td>\n",
              "      <td id=\"T_f0df6_row8_col3\" class=\"data row8 col3\" >0.8152</td>\n",
              "      <td id=\"T_f0df6_row8_col4\" class=\"data row8 col4\" >0.8122</td>\n",
              "      <td id=\"T_f0df6_row8_col5\" class=\"data row8 col5\" >0.8084</td>\n",
              "      <td id=\"T_f0df6_row8_col6\" class=\"data row8 col6\" >0.5900</td>\n",
              "      <td id=\"T_f0df6_row8_col7\" class=\"data row8 col7\" >0.5992</td>\n",
              "      <td id=\"T_f0df6_row8_col8\" class=\"data row8 col8\" >0.1070</td>\n",
              "    </tr>\n",
              "    <tr>\n",
              "      <th id=\"T_f0df6_level0_row9\" class=\"row_heading level0 row9\" >lightgbm</th>\n",
              "      <td id=\"T_f0df6_row9_col0\" class=\"data row9 col0\" >Light Gradient Boosting Machine</td>\n",
              "      <td id=\"T_f0df6_row9_col1\" class=\"data row9 col1\" >0.7872</td>\n",
              "      <td id=\"T_f0df6_row9_col2\" class=\"data row9 col2\" >0.8706</td>\n",
              "      <td id=\"T_f0df6_row9_col3\" class=\"data row9 col3\" >0.8152</td>\n",
              "      <td id=\"T_f0df6_row9_col4\" class=\"data row9 col4\" >0.8199</td>\n",
              "      <td id=\"T_f0df6_row9_col5\" class=\"data row9 col5\" >0.8024</td>\n",
              "      <td id=\"T_f0df6_row9_col6\" class=\"data row9 col6\" >0.5683</td>\n",
              "      <td id=\"T_f0df6_row9_col7\" class=\"data row9 col7\" >0.5907</td>\n",
              "      <td id=\"T_f0df6_row9_col8\" class=\"data row9 col8\" >0.2590</td>\n",
              "    </tr>\n",
              "    <tr>\n",
              "      <th id=\"T_f0df6_level0_row10\" class=\"row_heading level0 row10\" >dt</th>\n",
              "      <td id=\"T_f0df6_row10_col0\" class=\"data row10 col0\" >Decision Tree Classifier</td>\n",
              "      <td id=\"T_f0df6_row10_col1\" class=\"data row10 col1\" >0.7545</td>\n",
              "      <td id=\"T_f0df6_row10_col2\" class=\"data row10 col2\" >0.7546</td>\n",
              "      <td id=\"T_f0df6_row10_col3\" class=\"data row10 col3\" >0.7659</td>\n",
              "      <td id=\"T_f0df6_row10_col4\" class=\"data row10 col4\" >0.7890</td>\n",
              "      <td id=\"T_f0df6_row10_col5\" class=\"data row10 col5\" >0.7680</td>\n",
              "      <td id=\"T_f0df6_row10_col6\" class=\"data row10 col6\" >0.5068</td>\n",
              "      <td id=\"T_f0df6_row10_col7\" class=\"data row10 col7\" >0.5231</td>\n",
              "      <td id=\"T_f0df6_row10_col8\" class=\"data row10 col8\" >0.0270</td>\n",
              "    </tr>\n",
              "    <tr>\n",
              "      <th id=\"T_f0df6_level0_row11\" class=\"row_heading level0 row11\" >ada</th>\n",
              "      <td id=\"T_f0df6_row11_col0\" class=\"data row11 col0\" >Ada Boost Classifier</td>\n",
              "      <td id=\"T_f0df6_row11_col1\" class=\"data row11 col1\" >0.7500</td>\n",
              "      <td id=\"T_f0df6_row11_col2\" class=\"data row11 col2\" >0.8122</td>\n",
              "      <td id=\"T_f0df6_row11_col3\" class=\"data row11 col3\" >0.7712</td>\n",
              "      <td id=\"T_f0df6_row11_col4\" class=\"data row11 col4\" >0.7812</td>\n",
              "      <td id=\"T_f0df6_row11_col5\" class=\"data row11 col5\" >0.7650</td>\n",
              "      <td id=\"T_f0df6_row11_col6\" class=\"data row11 col6\" >0.4954</td>\n",
              "      <td id=\"T_f0df6_row11_col7\" class=\"data row11 col7\" >0.5107</td>\n",
              "      <td id=\"T_f0df6_row11_col8\" class=\"data row11 col8\" >0.1120</td>\n",
              "    </tr>\n",
              "    <tr>\n",
              "      <th id=\"T_f0df6_level0_row12\" class=\"row_heading level0 row12\" >knn</th>\n",
              "      <td id=\"T_f0df6_row12_col0\" class=\"data row12 col0\" >K Neighbors Classifier</td>\n",
              "      <td id=\"T_f0df6_row12_col1\" class=\"data row12 col1\" >0.6370</td>\n",
              "      <td id=\"T_f0df6_row12_col2\" class=\"data row12 col2\" >0.6556</td>\n",
              "      <td id=\"T_f0df6_row12_col3\" class=\"data row12 col3\" >0.7197</td>\n",
              "      <td id=\"T_f0df6_row12_col4\" class=\"data row12 col4\" >0.6572</td>\n",
              "      <td id=\"T_f0df6_row12_col5\" class=\"data row12 col5\" >0.6818</td>\n",
              "      <td id=\"T_f0df6_row12_col6\" class=\"data row12 col6\" >0.2587</td>\n",
              "      <td id=\"T_f0df6_row12_col7\" class=\"data row12 col7\" >0.2650</td>\n",
              "      <td id=\"T_f0df6_row12_col8\" class=\"data row12 col8\" >0.0420</td>\n",
              "    </tr>\n",
              "    <tr>\n",
              "      <th id=\"T_f0df6_level0_row13\" class=\"row_heading level0 row13\" >svm</th>\n",
              "      <td id=\"T_f0df6_row13_col0\" class=\"data row13 col0\" >SVM - Linear Kernel</td>\n",
              "      <td id=\"T_f0df6_row13_col1\" class=\"data row13 col1\" >0.5472</td>\n",
              "      <td id=\"T_f0df6_row13_col2\" class=\"data row13 col2\" >0.0000</td>\n",
              "      <td id=\"T_f0df6_row13_col3\" class=\"data row13 col3\" >0.6917</td>\n",
              "      <td id=\"T_f0df6_row13_col4\" class=\"data row13 col4\" >0.5079</td>\n",
              "      <td id=\"T_f0df6_row13_col5\" class=\"data row13 col5\" >0.5197</td>\n",
              "      <td id=\"T_f0df6_row13_col6\" class=\"data row13 col6\" >0.1002</td>\n",
              "      <td id=\"T_f0df6_row13_col7\" class=\"data row13 col7\" >0.1386</td>\n",
              "      <td id=\"T_f0df6_row13_col8\" class=\"data row13 col8\" >0.0260</td>\n",
              "    </tr>\n",
              "    <tr>\n",
              "      <th id=\"T_f0df6_level0_row14\" class=\"row_heading level0 row14\" >dummy</th>\n",
              "      <td id=\"T_f0df6_row14_col0\" class=\"data row14 col0\" >Dummy Classifier</td>\n",
              "      <td id=\"T_f0df6_row14_col1\" class=\"data row14 col1\" >0.5424</td>\n",
              "      <td id=\"T_f0df6_row14_col2\" class=\"data row14 col2\" >0.5000</td>\n",
              "      <td id=\"T_f0df6_row14_col3\" class=\"data row14 col3\" >1.0000</td>\n",
              "      <td id=\"T_f0df6_row14_col4\" class=\"data row14 col4\" >0.5424</td>\n",
              "      <td id=\"T_f0df6_row14_col5\" class=\"data row14 col5\" >0.7031</td>\n",
              "      <td id=\"T_f0df6_row14_col6\" class=\"data row14 col6\" >0.0000</td>\n",
              "      <td id=\"T_f0df6_row14_col7\" class=\"data row14 col7\" >0.0000</td>\n",
              "      <td id=\"T_f0df6_row14_col8\" class=\"data row14 col8\" >0.0400</td>\n",
              "    </tr>\n",
              "  </tbody>\n",
              "</table>\n"
            ]
          },
          "metadata": {}
        },
        {
          "output_type": "display_data",
          "data": {
            "text/plain": [
              "Processing:   0%|          | 0/65 [00:00<?, ?it/s]"
            ],
            "application/vnd.jupyter.widget-view+json": {
              "version_major": 2,
              "version_minor": 0,
              "model_id": "6d2e6d54ef204806ad8a2274d4d94e89"
            }
          },
          "metadata": {
            "application/vnd.jupyter.widget-view+json": {
              "colab": {
                "custom_widget_manager": {
                  "url": "https://ssl.gstatic.com/colaboratory-static/widgets/colab-cdn-widget-manager/b3e629b1971e1542/manager.min.js"
                }
              }
            }
          }
        },
        {
          "output_type": "display_data",
          "data": {
            "text/plain": [
              "<IPython.core.display.HTML object>"
            ],
            "text/html": []
          },
          "metadata": {}
        }
      ]
    },
    {
      "cell_type": "markdown",
      "source": [
        "Based on the above comparission, we found that Naives  Bayes gives us te best results."
      ],
      "metadata": {
        "id": "OLzR2Ri-3qkb"
      }
    },
    {
      "cell_type": "code",
      "source": [
        "#let us tune our model\n",
        "tuned_model = exp.tune_model(base_models)"
      ],
      "metadata": {
        "colab": {
          "base_uri": "https://localhost:8080/",
          "height": 512,
          "referenced_widgets": [
            "f93174842e9349a58159dabf4cc4be72",
            "c3ff2108ef184217a980ad9d2c138966",
            "0e46a4419c874ffdad3dbecd3d05aae2",
            "0aa37c8483374ade8d8b6cadc9f17641",
            "738b926b41a94412bc48ee6984b4d0ba",
            "b0017873955c44e39d3d0341d94d0dc2",
            "27d9364029634ec1b7ac84d8e21ada40",
            "29415a924410442fa1923ce8a7bf8a16",
            "ad0bfab0775347ccb6ea88dbfc7b247b",
            "b9a14f1e1b87418c9cbdb3bd95f5f618",
            "0134b333193f44c2830ec6cd8c8065be"
          ]
        },
        "id": "hWSOcD8B3qQi",
        "outputId": "6268b36f-9c6a-4a58-80a2-91a85e96da97"
      },
      "execution_count": 78,
      "outputs": [
        {
          "output_type": "display_data",
          "data": {
            "text/plain": [
              "<IPython.core.display.HTML object>"
            ],
            "text/html": []
          },
          "metadata": {}
        },
        {
          "output_type": "display_data",
          "data": {
            "text/plain": [
              "<pandas.io.formats.style.Styler at 0x7da54f8dd1b0>"
            ],
            "text/html": [
              "<style type=\"text/css\">\n",
              "#T_de863_row10_col0, #T_de863_row10_col1, #T_de863_row10_col2, #T_de863_row10_col3, #T_de863_row10_col4, #T_de863_row10_col5, #T_de863_row10_col6 {\n",
              "  background: yellow;\n",
              "}\n",
              "</style>\n",
              "<table id=\"T_de863\" class=\"dataframe\">\n",
              "  <thead>\n",
              "    <tr>\n",
              "      <th class=\"blank level0\" >&nbsp;</th>\n",
              "      <th id=\"T_de863_level0_col0\" class=\"col_heading level0 col0\" >Accuracy</th>\n",
              "      <th id=\"T_de863_level0_col1\" class=\"col_heading level0 col1\" >AUC</th>\n",
              "      <th id=\"T_de863_level0_col2\" class=\"col_heading level0 col2\" >Recall</th>\n",
              "      <th id=\"T_de863_level0_col3\" class=\"col_heading level0 col3\" >Prec.</th>\n",
              "      <th id=\"T_de863_level0_col4\" class=\"col_heading level0 col4\" >F1</th>\n",
              "      <th id=\"T_de863_level0_col5\" class=\"col_heading level0 col5\" >Kappa</th>\n",
              "      <th id=\"T_de863_level0_col6\" class=\"col_heading level0 col6\" >MCC</th>\n",
              "    </tr>\n",
              "    <tr>\n",
              "      <th class=\"index_name level0\" >Fold</th>\n",
              "      <th class=\"blank col0\" >&nbsp;</th>\n",
              "      <th class=\"blank col1\" >&nbsp;</th>\n",
              "      <th class=\"blank col2\" >&nbsp;</th>\n",
              "      <th class=\"blank col3\" >&nbsp;</th>\n",
              "      <th class=\"blank col4\" >&nbsp;</th>\n",
              "      <th class=\"blank col5\" >&nbsp;</th>\n",
              "      <th class=\"blank col6\" >&nbsp;</th>\n",
              "    </tr>\n",
              "  </thead>\n",
              "  <tbody>\n",
              "    <tr>\n",
              "      <th id=\"T_de863_level0_row0\" class=\"row_heading level0 row0\" >0</th>\n",
              "      <td id=\"T_de863_row0_col0\" class=\"data row0 col0\" >0.9091</td>\n",
              "      <td id=\"T_de863_row0_col1\" class=\"data row0 col1\" >0.9917</td>\n",
              "      <td id=\"T_de863_row0_col2\" class=\"data row0 col2\" >1.0000</td>\n",
              "      <td id=\"T_de863_row0_col3\" class=\"data row0 col3\" >0.8571</td>\n",
              "      <td id=\"T_de863_row0_col4\" class=\"data row0 col4\" >0.9231</td>\n",
              "      <td id=\"T_de863_row0_col5\" class=\"data row0 col5\" >0.8136</td>\n",
              "      <td id=\"T_de863_row0_col6\" class=\"data row0 col6\" >0.8281</td>\n",
              "    </tr>\n",
              "    <tr>\n",
              "      <th id=\"T_de863_level0_row1\" class=\"row_heading level0 row1\" >1</th>\n",
              "      <td id=\"T_de863_row1_col0\" class=\"data row1 col0\" >0.8636</td>\n",
              "      <td id=\"T_de863_row1_col1\" class=\"data row1 col1\" >0.9583</td>\n",
              "      <td id=\"T_de863_row1_col2\" class=\"data row1 col2\" >1.0000</td>\n",
              "      <td id=\"T_de863_row1_col3\" class=\"data row1 col3\" >0.8000</td>\n",
              "      <td id=\"T_de863_row1_col4\" class=\"data row1 col4\" >0.8889</td>\n",
              "      <td id=\"T_de863_row1_col5\" class=\"data row1 col5\" >0.7179</td>\n",
              "      <td id=\"T_de863_row1_col6\" class=\"data row1 col6\" >0.7483</td>\n",
              "    </tr>\n",
              "    <tr>\n",
              "      <th id=\"T_de863_level0_row2\" class=\"row_heading level0 row2\" >2</th>\n",
              "      <td id=\"T_de863_row2_col0\" class=\"data row2 col0\" >0.8571</td>\n",
              "      <td id=\"T_de863_row2_col1\" class=\"data row2 col1\" >0.9815</td>\n",
              "      <td id=\"T_de863_row2_col2\" class=\"data row2 col2\" >0.8333</td>\n",
              "      <td id=\"T_de863_row2_col3\" class=\"data row2 col3\" >0.9091</td>\n",
              "      <td id=\"T_de863_row2_col4\" class=\"data row2 col4\" >0.8696</td>\n",
              "      <td id=\"T_de863_row2_col5\" class=\"data row2 col5\" >0.7123</td>\n",
              "      <td id=\"T_de863_row2_col6\" class=\"data row2 col6\" >0.7156</td>\n",
              "    </tr>\n",
              "    <tr>\n",
              "      <th id=\"T_de863_level0_row3\" class=\"row_heading level0 row3\" >3</th>\n",
              "      <td id=\"T_de863_row3_col0\" class=\"data row3 col0\" >0.8095</td>\n",
              "      <td id=\"T_de863_row3_col1\" class=\"data row3 col1\" >0.9444</td>\n",
              "      <td id=\"T_de863_row3_col2\" class=\"data row3 col2\" >1.0000</td>\n",
              "      <td id=\"T_de863_row3_col3\" class=\"data row3 col3\" >0.7500</td>\n",
              "      <td id=\"T_de863_row3_col4\" class=\"data row3 col4\" >0.8571</td>\n",
              "      <td id=\"T_de863_row3_col5\" class=\"data row3 col5\" >0.5882</td>\n",
              "      <td id=\"T_de863_row3_col6\" class=\"data row3 col6\" >0.6455</td>\n",
              "    </tr>\n",
              "    <tr>\n",
              "      <th id=\"T_de863_level0_row4\" class=\"row_heading level0 row4\" >4</th>\n",
              "      <td id=\"T_de863_row4_col0\" class=\"data row4 col0\" >0.8571</td>\n",
              "      <td id=\"T_de863_row4_col1\" class=\"data row4 col1\" >0.9815</td>\n",
              "      <td id=\"T_de863_row4_col2\" class=\"data row4 col2\" >0.8333</td>\n",
              "      <td id=\"T_de863_row4_col3\" class=\"data row4 col3\" >0.9091</td>\n",
              "      <td id=\"T_de863_row4_col4\" class=\"data row4 col4\" >0.8696</td>\n",
              "      <td id=\"T_de863_row4_col5\" class=\"data row4 col5\" >0.7123</td>\n",
              "      <td id=\"T_de863_row4_col6\" class=\"data row4 col6\" >0.7156</td>\n",
              "    </tr>\n",
              "    <tr>\n",
              "      <th id=\"T_de863_level0_row5\" class=\"row_heading level0 row5\" >5</th>\n",
              "      <td id=\"T_de863_row5_col0\" class=\"data row5 col0\" >0.8571</td>\n",
              "      <td id=\"T_de863_row5_col1\" class=\"data row5 col1\" >0.9455</td>\n",
              "      <td id=\"T_de863_row5_col2\" class=\"data row5 col2\" >0.8182</td>\n",
              "      <td id=\"T_de863_row5_col3\" class=\"data row5 col3\" >0.9000</td>\n",
              "      <td id=\"T_de863_row5_col4\" class=\"data row5 col4\" >0.8571</td>\n",
              "      <td id=\"T_de863_row5_col5\" class=\"data row5 col5\" >0.7149</td>\n",
              "      <td id=\"T_de863_row5_col6\" class=\"data row5 col6\" >0.7182</td>\n",
              "    </tr>\n",
              "    <tr>\n",
              "      <th id=\"T_de863_level0_row6\" class=\"row_heading level0 row6\" >6</th>\n",
              "      <td id=\"T_de863_row6_col0\" class=\"data row6 col0\" >0.9048</td>\n",
              "      <td id=\"T_de863_row6_col1\" class=\"data row6 col1\" >0.9000</td>\n",
              "      <td id=\"T_de863_row6_col2\" class=\"data row6 col2\" >1.0000</td>\n",
              "      <td id=\"T_de863_row6_col3\" class=\"data row6 col3\" >0.8462</td>\n",
              "      <td id=\"T_de863_row6_col4\" class=\"data row6 col4\" >0.9167</td>\n",
              "      <td id=\"T_de863_row6_col5\" class=\"data row6 col5\" >0.8073</td>\n",
              "      <td id=\"T_de863_row6_col6\" class=\"data row6 col6\" >0.8228</td>\n",
              "    </tr>\n",
              "    <tr>\n",
              "      <th id=\"T_de863_level0_row7\" class=\"row_heading level0 row7\" >7</th>\n",
              "      <td id=\"T_de863_row7_col0\" class=\"data row7 col0\" >0.6667</td>\n",
              "      <td id=\"T_de863_row7_col1\" class=\"data row7 col1\" >0.8273</td>\n",
              "      <td id=\"T_de863_row7_col2\" class=\"data row7 col2\" >0.7273</td>\n",
              "      <td id=\"T_de863_row7_col3\" class=\"data row7 col3\" >0.6667</td>\n",
              "      <td id=\"T_de863_row7_col4\" class=\"data row7 col4\" >0.6957</td>\n",
              "      <td id=\"T_de863_row7_col5\" class=\"data row7 col5\" >0.3288</td>\n",
              "      <td id=\"T_de863_row7_col6\" class=\"data row7 col6\" >0.3303</td>\n",
              "    </tr>\n",
              "    <tr>\n",
              "      <th id=\"T_de863_level0_row8\" class=\"row_heading level0 row8\" >8</th>\n",
              "      <td id=\"T_de863_row8_col0\" class=\"data row8 col0\" >0.8571</td>\n",
              "      <td id=\"T_de863_row8_col1\" class=\"data row8 col1\" >0.9364</td>\n",
              "      <td id=\"T_de863_row8_col2\" class=\"data row8 col2\" >0.9091</td>\n",
              "      <td id=\"T_de863_row8_col3\" class=\"data row8 col3\" >0.8333</td>\n",
              "      <td id=\"T_de863_row8_col4\" class=\"data row8 col4\" >0.8696</td>\n",
              "      <td id=\"T_de863_row8_col5\" class=\"data row8 col5\" >0.7123</td>\n",
              "      <td id=\"T_de863_row8_col6\" class=\"data row8 col6\" >0.7156</td>\n",
              "    </tr>\n",
              "    <tr>\n",
              "      <th id=\"T_de863_level0_row9\" class=\"row_heading level0 row9\" >9</th>\n",
              "      <td id=\"T_de863_row9_col0\" class=\"data row9 col0\" >0.6190</td>\n",
              "      <td id=\"T_de863_row9_col1\" class=\"data row9 col1\" >0.7455</td>\n",
              "      <td id=\"T_de863_row9_col2\" class=\"data row9 col2\" >0.4545</td>\n",
              "      <td id=\"T_de863_row9_col3\" class=\"data row9 col3\" >0.7143</td>\n",
              "      <td id=\"T_de863_row9_col4\" class=\"data row9 col4\" >0.5556</td>\n",
              "      <td id=\"T_de863_row9_col5\" class=\"data row9 col5\" >0.2500</td>\n",
              "      <td id=\"T_de863_row9_col6\" class=\"data row9 col6\" >0.2697</td>\n",
              "    </tr>\n",
              "    <tr>\n",
              "      <th id=\"T_de863_level0_row10\" class=\"row_heading level0 row10\" >Mean</th>\n",
              "      <td id=\"T_de863_row10_col0\" class=\"data row10 col0\" >0.8201</td>\n",
              "      <td id=\"T_de863_row10_col1\" class=\"data row10 col1\" >0.9212</td>\n",
              "      <td id=\"T_de863_row10_col2\" class=\"data row10 col2\" >0.8576</td>\n",
              "      <td id=\"T_de863_row10_col3\" class=\"data row10 col3\" >0.8186</td>\n",
              "      <td id=\"T_de863_row10_col4\" class=\"data row10 col4\" >0.8303</td>\n",
              "      <td id=\"T_de863_row10_col5\" class=\"data row10 col5\" >0.6358</td>\n",
              "      <td id=\"T_de863_row10_col6\" class=\"data row10 col6\" >0.6510</td>\n",
              "    </tr>\n",
              "    <tr>\n",
              "      <th id=\"T_de863_level0_row11\" class=\"row_heading level0 row11\" >Std</th>\n",
              "      <td id=\"T_de863_row11_col0\" class=\"data row11 col0\" >0.0930</td>\n",
              "      <td id=\"T_de863_row11_col1\" class=\"data row11 col1\" >0.0742</td>\n",
              "      <td id=\"T_de863_row11_col2\" class=\"data row11 col2\" >0.1631</td>\n",
              "      <td id=\"T_de863_row11_col3\" class=\"data row11 col3\" >0.0803</td>\n",
              "      <td id=\"T_de863_row11_col4\" class=\"data row11 col4\" >0.1092</td>\n",
              "      <td id=\"T_de863_row11_col5\" class=\"data row11 col5\" >0.1836</td>\n",
              "      <td id=\"T_de863_row11_col6\" class=\"data row11 col6\" >0.1832</td>\n",
              "    </tr>\n",
              "  </tbody>\n",
              "</table>\n"
            ]
          },
          "metadata": {}
        },
        {
          "output_type": "display_data",
          "data": {
            "text/plain": [
              "Processing:   0%|          | 0/7 [00:00<?, ?it/s]"
            ],
            "application/vnd.jupyter.widget-view+json": {
              "version_major": 2,
              "version_minor": 0,
              "model_id": "f93174842e9349a58159dabf4cc4be72"
            }
          },
          "metadata": {
            "application/vnd.jupyter.widget-view+json": {
              "colab": {
                "custom_widget_manager": {
                  "url": "https://ssl.gstatic.com/colaboratory-static/widgets/colab-cdn-widget-manager/b3e629b1971e1542/manager.min.js"
                }
              }
            }
          }
        },
        {
          "output_type": "stream",
          "name": "stdout",
          "text": [
            "Fitting 10 folds for each of 10 candidates, totalling 100 fits\n"
          ]
        },
        {
          "output_type": "display_data",
          "data": {
            "text/plain": [
              "<IPython.core.display.HTML object>"
            ],
            "text/html": []
          },
          "metadata": {}
        },
        {
          "output_type": "stream",
          "name": "stdout",
          "text": [
            "Original model was better than the tuned model, hence it will be returned. NOTE: The display metrics are for the tuned model (not the original one).\n"
          ]
        }
      ]
    },
    {
      "cell_type": "markdown",
      "source": [
        "After hyper parameter tuning we found that the orignal model performs better than others. Now we can move to evaluate phase"
      ],
      "metadata": {
        "id": "Rczy0DtX5Gl1"
      }
    },
    {
      "cell_type": "markdown",
      "source": [
        "## Evaluation"
      ],
      "metadata": {
        "id": "O8_8wWQu5rwE"
      }
    },
    {
      "cell_type": "code",
      "source": [
        "predictions=exp.predict_model(base_models)"
      ],
      "metadata": {
        "colab": {
          "base_uri": "https://localhost:8080/",
          "height": 81
        },
        "id": "D57Tl0Xi5-7k",
        "outputId": "488bc6f7-3d93-442b-ba40-b11a6df67939"
      },
      "execution_count": 81,
      "outputs": [
        {
          "output_type": "display_data",
          "data": {
            "text/plain": [
              "<pandas.io.formats.style.Styler at 0x7da54fac6a10>"
            ],
            "text/html": [
              "<style type=\"text/css\">\n",
              "</style>\n",
              "<table id=\"T_726d8\" class=\"dataframe\">\n",
              "  <thead>\n",
              "    <tr>\n",
              "      <th class=\"blank level0\" >&nbsp;</th>\n",
              "      <th id=\"T_726d8_level0_col0\" class=\"col_heading level0 col0\" >Model</th>\n",
              "      <th id=\"T_726d8_level0_col1\" class=\"col_heading level0 col1\" >Accuracy</th>\n",
              "      <th id=\"T_726d8_level0_col2\" class=\"col_heading level0 col2\" >AUC</th>\n",
              "      <th id=\"T_726d8_level0_col3\" class=\"col_heading level0 col3\" >Recall</th>\n",
              "      <th id=\"T_726d8_level0_col4\" class=\"col_heading level0 col4\" >Prec.</th>\n",
              "      <th id=\"T_726d8_level0_col5\" class=\"col_heading level0 col5\" >F1</th>\n",
              "      <th id=\"T_726d8_level0_col6\" class=\"col_heading level0 col6\" >Kappa</th>\n",
              "      <th id=\"T_726d8_level0_col7\" class=\"col_heading level0 col7\" >MCC</th>\n",
              "    </tr>\n",
              "  </thead>\n",
              "  <tbody>\n",
              "    <tr>\n",
              "      <th id=\"T_726d8_level0_row0\" class=\"row_heading level0 row0\" >0</th>\n",
              "      <td id=\"T_726d8_row0_col0\" class=\"data row0 col0\" >Naive Bayes</td>\n",
              "      <td id=\"T_726d8_row0_col1\" class=\"data row0 col1\" >0.8132</td>\n",
              "      <td id=\"T_726d8_row0_col2\" class=\"data row0 col2\" >0.8741</td>\n",
              "      <td id=\"T_726d8_row0_col3\" class=\"data row0 col3\" >0.8600</td>\n",
              "      <td id=\"T_726d8_row0_col4\" class=\"data row0 col4\" >0.8113</td>\n",
              "      <td id=\"T_726d8_row0_col5\" class=\"data row0 col5\" >0.8350</td>\n",
              "      <td id=\"T_726d8_row0_col6\" class=\"data row0 col6\" >0.6202</td>\n",
              "      <td id=\"T_726d8_row0_col7\" class=\"data row0 col7\" >0.6216</td>\n",
              "    </tr>\n",
              "  </tbody>\n",
              "</table>\n"
            ]
          },
          "metadata": {}
        }
      ]
    },
    {
      "cell_type": "code",
      "source": [
        "exp.plot_model(base_models,plot='confusion_matrix')"
      ],
      "metadata": {
        "colab": {
          "base_uri": "https://localhost:8080/",
          "height": 551
        },
        "id": "5djYEvB86V2d",
        "outputId": "23e9d3d0-184f-4cd7-b255-8bafdede9af5"
      },
      "execution_count": 82,
      "outputs": [
        {
          "output_type": "display_data",
          "data": {
            "text/plain": [
              "<IPython.core.display.HTML object>"
            ],
            "text/html": []
          },
          "metadata": {}
        },
        {
          "output_type": "display_data",
          "data": {
            "text/plain": [
              "<Figure size 800x550 with 1 Axes>"
            ],
            "image/png": "[encoded data removed]"
          },
          "metadata": {}
        }
      ]
    },
    {
      "cell_type": "markdown",
      "source": [
        "We have meet our data mining requiremnets so we can stop here and proceed to deployment"
      ],
      "metadata": {
        "id": "8nqiZ02v6MR_"
      }
    },
    {
      "cell_type": "code",
      "source": [
        "exp.evaluate_model(base_models)"
      ],
      "metadata": {
        "colab": {
          "base_uri": "https://localhost:8080/",
          "height": 691,
          "referenced_widgets": [
            "c029dece8c55498d80a7eb1a66623566",
            "aeec2bee05b74333af223ca068a06ba4",
            "3c103a68dac7408d93d4a2573576029c",
            "c430bc7812df4df4a5a8be0638d67589",
            "6491e2267f7c403a96d1a1d9c241aa8d",
            "7f5dea0942234535bd30dc1f9392ea51",
            "20a830657689489fa17830b3d1d72da1"
          ]
        },
        "id": "gDU3F_xWC0KE",
        "outputId": "29789af6-3757-49cd-ddc2-64ff747be037"
      },
      "execution_count": 79,
      "outputs": [
        {
          "output_type": "display_data",
          "data": {
            "text/plain": [
              "interactive(children=(ToggleButtons(description='Plot Type:', icons=('',), options=(('Pipeline Plot', 'pipelin…"
            ],
            "application/vnd.jupyter.widget-view+json": {
              "version_major": 2,
              "version_minor": 0,
              "model_id": "c029dece8c55498d80a7eb1a66623566"
            }
          },
          "metadata": {
            "application/vnd.jupyter.widget-view+json": {
              "colab": {
                "custom_widget_manager": {
                  "url": "https://ssl.gstatic.com/colaboratory-static/widgets/colab-cdn-widget-manager/b3e629b1971e1542/manager.min.js"
                }
              }
            }
          }
        }
      ]
    },
    {
      "cell_type": "markdown",
      "source": [
        "## Deployment"
      ],
      "metadata": {
        "id": "egz-wsoe7e6u"
      }
    },
    {
      "cell_type": "code",
      "source": [
        "exp.save_model(base_models,'/content/drive/MyDrive/crisp_dm')"
      ],
      "metadata": {
        "colab": {
          "base_uri": "https://localhost:8080/"
        },
        "id": "Cpb-p70lC9OE",
        "outputId": "77565b89-5629-4bf3-8634-fb166d537e47"
      },
      "execution_count": 84,
      "outputs": [
        {
          "output_type": "stream",
          "name": "stdout",
          "text": [
            "Transformation Pipeline and Model Successfully Saved\n"
          ]
        },
        {
          "output_type": "execute_result",
          "data": {
            "text/plain": [
              "(Pipeline(memory=Memory(location=None),\n",
              "          steps=[('numerical_imputer',\n",
              "                  TransformerWrapper(exclude=None,\n",
              "                                     include=['age', 'sex', 'cp', 'trtbps',\n",
              "                                              'chol', 'fbs', 'restecg',\n",
              "                                              'thalachh', 'exng', 'oldpeak',\n",
              "                                              'slp', 'caa', 'thall'],\n",
              "                                     transformer=SimpleImputer(add_indicator=False,\n",
              "                                                               copy=True,\n",
              "                                                               fill_value=None,\n",
              "                                                               keep_empty_features=False,\n",
              "                                                               missing_values=nan,\n",
              "                                                               strategy='mean',\n",
              "                                                               verbose='deprecated'))),\n",
              "                 ('categorical_imputer',\n",
              "                  TransformerWrapper(exclude=None, include=[],\n",
              "                                     transformer=SimpleImputer(add_indicator=False,\n",
              "                                                               copy=True,\n",
              "                                                               fill_value=None,\n",
              "                                                               keep_empty_features=False,\n",
              "                                                               missing_values=nan,\n",
              "                                                               strategy='most_frequent',\n",
              "                                                               verbose='deprecated'))),\n",
              "                 ('trained_model',\n",
              "                  GaussianNB(priors=None, var_smoothing=1e-09))],\n",
              "          verbose=False),\n",
              " '/content/drive/MyDrive/crisp_dm.pkl')"
            ]
          },
          "metadata": {},
          "execution_count": 84
        }
      ]
    },
    {
      "cell_type": "markdown",
      "source": [
        "Now we can deploy the model where ever we like"
      ],
      "metadata": {
        "id": "HZGy8lLC77bC"
      }
    },
    {
      "cell_type": "code",
      "source": [],
      "metadata": {
        "id": "0moJGJFu7zQu"
      },
      "execution_count": null,
      "outputs": []
    }
  ]
}